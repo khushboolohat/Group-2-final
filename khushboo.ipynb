{
  "nbformat": 4,
  "nbformat_minor": 0,
  "metadata": {
    "colab": {
      "name": "khushboo.ipynb",
      "provenance": [],
      "include_colab_link": true
    },
    "kernelspec": {
      "name": "python3",
      "display_name": "Python 3"
    }
  },
  "cells": [
    {
      "cell_type": "markdown",
      "metadata": {
        "id": "view-in-github",
        "colab_type": "text"
      },
      "source": [
        "<a href=\"https://colab.research.google.com/github/khushboolohat/Group-2-final/blob/Akshita/khushboo.ipynb\" target=\"_parent\"><img src=\"https://colab.research.google.com/assets/colab-badge.svg\" alt=\"Open In Colab\"/></a>"
      ]
    },
    {
      "cell_type": "code",
      "metadata": {
        "id": "T9OH59Z27yYe"
      },
      "source": [
        "#new file"
      ],
      "execution_count": null,
      "outputs": []
    },
    {
      "cell_type": "code",
      "metadata": {
        "colab": {
          "base_uri": "https://localhost:8080/"
        },
        "id": "ykvcdqJJ-XAa",
        "outputId": "55f87a36-a07f-4c52-997f-69f8a57138ee"
      },
      "source": [
        "import pandas as pd\r\n",
        "import numpy as np\r\n",
        "from matplotlib import pyplot as plt\r\n",
        "import seaborn as sns\r\n",
        "! pip install alpha-vantage\r\n",
        "from alpha_vantage.timeseries import TimeSeries"
      ],
      "execution_count": 2,
      "outputs": [
        {
          "output_type": "stream",
          "text": [
            "Collecting alpha-vantage\n",
            "  Downloading https://files.pythonhosted.org/packages/ba/b4/d95f9e0eccea6732bab5a079772d453a4f0b68a9f63740d9cf320f92beaa/alpha_vantage-2.3.1-py3-none-any.whl\n",
            "Collecting aiohttp\n",
            "\u001b[?25l  Downloading https://files.pythonhosted.org/packages/5b/a6/d36302eba284f4f427dc288f6b3ecd7f89d739cfca206b80311d3158f6d9/aiohttp-3.7.4-cp37-cp37m-manylinux2014_x86_64.whl (1.3MB)\n",
            "\u001b[K     |████████████████████████████████| 1.3MB 6.6MB/s \n",
            "\u001b[?25hRequirement already satisfied: requests in /usr/local/lib/python3.7/dist-packages (from alpha-vantage) (2.23.0)\n",
            "Requirement already satisfied: chardet<4.0,>=2.0 in /usr/local/lib/python3.7/dist-packages (from aiohttp->alpha-vantage) (3.0.4)\n",
            "Collecting yarl<2.0,>=1.0\n",
            "\u001b[?25l  Downloading https://files.pythonhosted.org/packages/f1/62/046834c5fc998c88ab2ef722f5d42122230a632212c8afa76418324f53ff/yarl-1.6.3-cp37-cp37m-manylinux2014_x86_64.whl (294kB)\n",
            "\u001b[K     |████████████████████████████████| 296kB 22.8MB/s \n",
            "\u001b[?25hCollecting multidict<7.0,>=4.5\n",
            "\u001b[?25l  Downloading https://files.pythonhosted.org/packages/7c/a6/4123b8165acbe773d1a8dc8e3f0d1edea16d29f7de018eda769abb56bd30/multidict-5.1.0-cp37-cp37m-manylinux2014_x86_64.whl (142kB)\n",
            "\u001b[K     |████████████████████████████████| 143kB 21.0MB/s \n",
            "\u001b[?25hCollecting async-timeout<4.0,>=3.0\n",
            "  Downloading https://files.pythonhosted.org/packages/e1/1e/5a4441be21b0726c4464f3f23c8b19628372f606755a9d2e46c187e65ec4/async_timeout-3.0.1-py3-none-any.whl\n",
            "Requirement already satisfied: attrs>=17.3.0 in /usr/local/lib/python3.7/dist-packages (from aiohttp->alpha-vantage) (20.3.0)\n",
            "Requirement already satisfied: typing-extensions>=3.6.5 in /usr/local/lib/python3.7/dist-packages (from aiohttp->alpha-vantage) (3.7.4.3)\n",
            "Requirement already satisfied: certifi>=2017.4.17 in /usr/local/lib/python3.7/dist-packages (from requests->alpha-vantage) (2020.12.5)\n",
            "Requirement already satisfied: urllib3!=1.25.0,!=1.25.1,<1.26,>=1.21.1 in /usr/local/lib/python3.7/dist-packages (from requests->alpha-vantage) (1.24.3)\n",
            "Requirement already satisfied: idna<3,>=2.5 in /usr/local/lib/python3.7/dist-packages (from requests->alpha-vantage) (2.10)\n",
            "Installing collected packages: multidict, yarl, async-timeout, aiohttp, alpha-vantage\n",
            "Successfully installed aiohttp-3.7.4 alpha-vantage-2.3.1 async-timeout-3.0.1 multidict-5.1.0 yarl-1.6.3\n"
          ],
          "name": "stdout"
        }
      ]
    },
    {
      "cell_type": "code",
      "metadata": {
        "id": "BYri07sn-mc5"
      },
      "source": [
        "demo = 'GF6ZHIZTJZE9APJY.' #YOUR API KEY HERE"
      ],
      "execution_count": 3,
      "outputs": []
    },
    {
      "cell_type": "code",
      "metadata": {
        "id": "MrPzElKl-5dL"
      },
      "source": [
        "url_global_deaths = r\"https://raw.githubusercontent.com/CSSEGISandData/COVID-19/master/csse_covid_19_data/csse_covid_19_time_series/time_series_covid19_deaths_global.csv\"\r\n",
        "url_global_confirmed = r\"https://raw.githubusercontent.com/CSSEGISandData/COVID-19/master/csse_covid_19_data/csse_covid_19_time_series/time_series_covid19_confirmed_global.csv\"\r\n",
        "url_retail_stock = r'https://www.alphavantage.co/query?function=TIME_SERIES_DAILY&symbol=NYSE:SPG&apikey=' + demo + '&datatype=csv'\r\n",
        "url_usa_stock = r'https://www.alphavantage.co/query?function=TIME_SERIES_DAILY&symbol=MSFT&apikey=' + demo + '&datatype=csv'\r\n",
        "url_canada_stock = r'https://www.alphavantage.co/query?function=TIME_SERIES_DAILY&symbol=TSE:BB&apikey=' + demo + '&datatype=csv'\r\n",
        "url_travel_stock = r'https://www.alphavantage.co/query?function=TIME_SERIES_DAILY&symbol=EXPE&apikey=' + demo + '&datatype=csv'\r\n",
        "url_material_stock = r'https://www.alphavantage.co/query?function=TIME_SERIES_DAILY&symbol=NYSE:GOLD&apikey=' + demo + '&datatype=csv'"
      ],
      "execution_count": 4,
      "outputs": []
    },
    {
      "cell_type": "code",
      "metadata": {
        "id": "WOLy9MxCC78v"
      },
      "source": [
        "deaths_df = pd.read_csv(url_global_deaths)\r\n",
        "confirm_df = pd.read_csv(url_global_confirmed)\r\n",
        "us_stock = pd.read_csv(url_usa_stock)\r\n",
        "ca_stock = pd.read_csv(url_canada_stock)\r\n",
        "retail_stock = pd.read_csv(url_retail_stock)\r\n",
        "travel_stock = pd.read_csv(url_travel_stock)\r\n",
        "material_stock = pd.read_csv(url_material_stock)"
      ],
      "execution_count": 5,
      "outputs": []
    },
    {
      "cell_type": "code",
      "metadata": {
        "colab": {
          "base_uri": "https://localhost:8080/"
        },
        "id": "WerrqH_iDPPh",
        "outputId": "aa316207-7b6b-4b89-8775-cc52691afab5"
      },
      "source": [
        "print(deaths_df.shape)\r\n",
        "print(confirm_df.shape)\r\n",
        "print(us_stock.shape)\r\n",
        "print(ca_stock.shape)\r\n",
        "print(retail_stock.shape)\r\n",
        "print(travel_stock.shape)\r\n",
        "print(material_stock.shape)"
      ],
      "execution_count": 6,
      "outputs": [
        {
          "output_type": "stream",
          "text": [
            "(274, 413)\n",
            "(274, 413)\n",
            "(100, 6)\n",
            "(100, 6)\n",
            "(100, 6)\n",
            "(100, 6)\n",
            "(100, 6)\n"
          ],
          "name": "stdout"
        }
      ]
    },
    {
      "cell_type": "code",
      "metadata": {
        "id": "ry5WdUXNIvGk"
      },
      "source": [
        "deaths_df_long = pd.melt(deaths_df, id_vars=['Province/State', 'Country/Region', 'Lat', 'Long'],\r\n",
        "                        value_vars= deaths_df.columns[4:], var_name='timestamp', value_name='death_cases')\r\n",
        "\r\n",
        "confirm_df_long = pd.melt(confirm_df, id_vars=['Province/State', 'Country/Region', 'Lat', 'Long'],\r\n",
        "                        value_vars= confirm_df.columns[4:], var_name='timestamp', value_name='confirmed_cases')"
      ],
      "execution_count": 7,
      "outputs": []
    },
    {
      "cell_type": "code",
      "metadata": {
        "id": "bkjQl1qKOgWR",
        "outputId": "b9c1603d-555d-4bf9-e241-780ed3330589",
        "colab": {
          "base_uri": "https://localhost:8080/",
          "height": 204
        }
      },
      "source": [
        "deaths_df_long.head()"
      ],
      "execution_count": 9,
      "outputs": [
        {
          "output_type": "execute_result",
          "data": {
            "text/html": [
              "<div>\n",
              "<style scoped>\n",
              "    .dataframe tbody tr th:only-of-type {\n",
              "        vertical-align: middle;\n",
              "    }\n",
              "\n",
              "    .dataframe tbody tr th {\n",
              "        vertical-align: top;\n",
              "    }\n",
              "\n",
              "    .dataframe thead th {\n",
              "        text-align: right;\n",
              "    }\n",
              "</style>\n",
              "<table border=\"1\" class=\"dataframe\">\n",
              "  <thead>\n",
              "    <tr style=\"text-align: right;\">\n",
              "      <th></th>\n",
              "      <th>Province/State</th>\n",
              "      <th>Country/Region</th>\n",
              "      <th>Lat</th>\n",
              "      <th>Long</th>\n",
              "      <th>timestamp</th>\n",
              "      <th>death_cases</th>\n",
              "    </tr>\n",
              "  </thead>\n",
              "  <tbody>\n",
              "    <tr>\n",
              "      <th>0</th>\n",
              "      <td>NaN</td>\n",
              "      <td>Afghanistan</td>\n",
              "      <td>33.93911</td>\n",
              "      <td>67.709953</td>\n",
              "      <td>1/22/20</td>\n",
              "      <td>0</td>\n",
              "    </tr>\n",
              "    <tr>\n",
              "      <th>1</th>\n",
              "      <td>NaN</td>\n",
              "      <td>Albania</td>\n",
              "      <td>41.15330</td>\n",
              "      <td>20.168300</td>\n",
              "      <td>1/22/20</td>\n",
              "      <td>0</td>\n",
              "    </tr>\n",
              "    <tr>\n",
              "      <th>2</th>\n",
              "      <td>NaN</td>\n",
              "      <td>Algeria</td>\n",
              "      <td>28.03390</td>\n",
              "      <td>1.659600</td>\n",
              "      <td>1/22/20</td>\n",
              "      <td>0</td>\n",
              "    </tr>\n",
              "    <tr>\n",
              "      <th>3</th>\n",
              "      <td>NaN</td>\n",
              "      <td>Andorra</td>\n",
              "      <td>42.50630</td>\n",
              "      <td>1.521800</td>\n",
              "      <td>1/22/20</td>\n",
              "      <td>0</td>\n",
              "    </tr>\n",
              "    <tr>\n",
              "      <th>4</th>\n",
              "      <td>NaN</td>\n",
              "      <td>Angola</td>\n",
              "      <td>-11.20270</td>\n",
              "      <td>17.873900</td>\n",
              "      <td>1/22/20</td>\n",
              "      <td>0</td>\n",
              "    </tr>\n",
              "  </tbody>\n",
              "</table>\n",
              "</div>"
            ],
            "text/plain": [
              "  Province/State Country/Region       Lat       Long timestamp  death_cases\n",
              "0            NaN    Afghanistan  33.93911  67.709953   1/22/20            0\n",
              "1            NaN        Albania  41.15330  20.168300   1/22/20            0\n",
              "2            NaN        Algeria  28.03390   1.659600   1/22/20            0\n",
              "3            NaN        Andorra  42.50630   1.521800   1/22/20            0\n",
              "4            NaN         Angola -11.20270  17.873900   1/22/20            0"
            ]
          },
          "metadata": {
            "tags": []
          },
          "execution_count": 9
        }
      ]
    },
    {
      "cell_type": "code",
      "metadata": {
        "colab": {
          "base_uri": "https://localhost:8080/",
          "height": 204
        },
        "id": "4X4NSYGdMiYF",
        "outputId": "a87a483a-fc8d-4fb3-bed2-eb614b1554b5"
      },
      "source": [
        "confirm_df_long.head()"
      ],
      "execution_count": 8,
      "outputs": [
        {
          "output_type": "execute_result",
          "data": {
            "text/html": [
              "<div>\n",
              "<style scoped>\n",
              "    .dataframe tbody tr th:only-of-type {\n",
              "        vertical-align: middle;\n",
              "    }\n",
              "\n",
              "    .dataframe tbody tr th {\n",
              "        vertical-align: top;\n",
              "    }\n",
              "\n",
              "    .dataframe thead th {\n",
              "        text-align: right;\n",
              "    }\n",
              "</style>\n",
              "<table border=\"1\" class=\"dataframe\">\n",
              "  <thead>\n",
              "    <tr style=\"text-align: right;\">\n",
              "      <th></th>\n",
              "      <th>Province/State</th>\n",
              "      <th>Country/Region</th>\n",
              "      <th>Lat</th>\n",
              "      <th>Long</th>\n",
              "      <th>timestamp</th>\n",
              "      <th>confirmed_cases</th>\n",
              "    </tr>\n",
              "  </thead>\n",
              "  <tbody>\n",
              "    <tr>\n",
              "      <th>0</th>\n",
              "      <td>NaN</td>\n",
              "      <td>Afghanistan</td>\n",
              "      <td>33.93911</td>\n",
              "      <td>67.709953</td>\n",
              "      <td>1/22/20</td>\n",
              "      <td>0</td>\n",
              "    </tr>\n",
              "    <tr>\n",
              "      <th>1</th>\n",
              "      <td>NaN</td>\n",
              "      <td>Albania</td>\n",
              "      <td>41.15330</td>\n",
              "      <td>20.168300</td>\n",
              "      <td>1/22/20</td>\n",
              "      <td>0</td>\n",
              "    </tr>\n",
              "    <tr>\n",
              "      <th>2</th>\n",
              "      <td>NaN</td>\n",
              "      <td>Algeria</td>\n",
              "      <td>28.03390</td>\n",
              "      <td>1.659600</td>\n",
              "      <td>1/22/20</td>\n",
              "      <td>0</td>\n",
              "    </tr>\n",
              "    <tr>\n",
              "      <th>3</th>\n",
              "      <td>NaN</td>\n",
              "      <td>Andorra</td>\n",
              "      <td>42.50630</td>\n",
              "      <td>1.521800</td>\n",
              "      <td>1/22/20</td>\n",
              "      <td>0</td>\n",
              "    </tr>\n",
              "    <tr>\n",
              "      <th>4</th>\n",
              "      <td>NaN</td>\n",
              "      <td>Angola</td>\n",
              "      <td>-11.20270</td>\n",
              "      <td>17.873900</td>\n",
              "      <td>1/22/20</td>\n",
              "      <td>0</td>\n",
              "    </tr>\n",
              "  </tbody>\n",
              "</table>\n",
              "</div>"
            ],
            "text/plain": [
              "  Province/State Country/Region       Lat       Long timestamp  confirmed_cases\n",
              "0            NaN    Afghanistan  33.93911  67.709953   1/22/20                0\n",
              "1            NaN        Albania  41.15330  20.168300   1/22/20                0\n",
              "2            NaN        Algeria  28.03390   1.659600   1/22/20                0\n",
              "3            NaN        Andorra  42.50630   1.521800   1/22/20                0\n",
              "4            NaN         Angola -11.20270  17.873900   1/22/20                0"
            ]
          },
          "metadata": {
            "tags": []
          },
          "execution_count": 8
        }
      ]
    },
    {
      "cell_type": "code",
      "metadata": {
        "id": "Hm9Mn8JoOYpT"
      },
      "source": [
        "us_stock['stock_name'] = 'MSFT'\r\n",
        "ca_stock['stock_name'] = 'BB'\r\n",
        "retail_stock['stock_name'] = 'SPG'\r\n",
        "travel_stock['stock_name'] = 'EXPE'\r\n",
        "material_stock['stock_name'] = 'GOLD'"
      ],
      "execution_count": 10,
      "outputs": []
    },
    {
      "cell_type": "code",
      "metadata": {
        "id": "XUfJuED_Otw0",
        "outputId": "810628be-11dd-4ae5-de6a-ce26b9490a4d",
        "colab": {
          "base_uri": "https://localhost:8080/"
        }
      },
      "source": [
        "final_stock = pd.concat([us_stock, ca_stock, retail_stock, travel_stock, material_stock]).reset_index(drop = True)\r\n",
        "final_stock.stock_name.unique()"
      ],
      "execution_count": 11,
      "outputs": [
        {
          "output_type": "execute_result",
          "data": {
            "text/plain": [
              "array(['MSFT', 'BB', 'SPG', 'EXPE', 'GOLD'], dtype=object)"
            ]
          },
          "metadata": {
            "tags": []
          },
          "execution_count": 11
        }
      ]
    },
    {
      "cell_type": "code",
      "metadata": {
        "id": "O31dzw_jO0z5",
        "outputId": "b6277641-1fac-4244-d74d-80e024e91e99",
        "colab": {
          "base_uri": "https://localhost:8080/"
        }
      },
      "source": [
        "final_stock.shape"
      ],
      "execution_count": 12,
      "outputs": [
        {
          "output_type": "execute_result",
          "data": {
            "text/plain": [
              "(500, 7)"
            ]
          },
          "metadata": {
            "tags": []
          },
          "execution_count": 12
        }
      ]
    },
    {
      "cell_type": "code",
      "metadata": {
        "id": "uJE5XqIkO6QZ",
        "outputId": "285e562c-4524-4dc8-80b5-a14b52903fd8",
        "colab": {
          "base_uri": "https://localhost:8080/",
          "height": 204
        }
      },
      "source": [
        "final_stock.tail()"
      ],
      "execution_count": 13,
      "outputs": [
        {
          "output_type": "execute_result",
          "data": {
            "text/html": [
              "<div>\n",
              "<style scoped>\n",
              "    .dataframe tbody tr th:only-of-type {\n",
              "        vertical-align: middle;\n",
              "    }\n",
              "\n",
              "    .dataframe tbody tr th {\n",
              "        vertical-align: top;\n",
              "    }\n",
              "\n",
              "    .dataframe thead th {\n",
              "        text-align: right;\n",
              "    }\n",
              "</style>\n",
              "<table border=\"1\" class=\"dataframe\">\n",
              "  <thead>\n",
              "    <tr style=\"text-align: right;\">\n",
              "      <th></th>\n",
              "      <th>timestamp</th>\n",
              "      <th>open</th>\n",
              "      <th>high</th>\n",
              "      <th>low</th>\n",
              "      <th>close</th>\n",
              "      <th>volume</th>\n",
              "      <th>stock_name</th>\n",
              "    </tr>\n",
              "  </thead>\n",
              "  <tbody>\n",
              "    <tr>\n",
              "      <th>495</th>\n",
              "      <td>2020-10-16</td>\n",
              "      <td>27.86</td>\n",
              "      <td>27.89</td>\n",
              "      <td>27.50</td>\n",
              "      <td>27.57</td>\n",
              "      <td>8991481</td>\n",
              "      <td>GOLD</td>\n",
              "    </tr>\n",
              "    <tr>\n",
              "      <th>496</th>\n",
              "      <td>2020-10-15</td>\n",
              "      <td>27.97</td>\n",
              "      <td>28.08</td>\n",
              "      <td>27.56</td>\n",
              "      <td>27.75</td>\n",
              "      <td>10768733</td>\n",
              "      <td>GOLD</td>\n",
              "    </tr>\n",
              "    <tr>\n",
              "      <th>497</th>\n",
              "      <td>2020-10-14</td>\n",
              "      <td>28.20</td>\n",
              "      <td>28.59</td>\n",
              "      <td>27.95</td>\n",
              "      <td>28.31</td>\n",
              "      <td>10603437</td>\n",
              "      <td>GOLD</td>\n",
              "    </tr>\n",
              "    <tr>\n",
              "      <th>498</th>\n",
              "      <td>2020-10-13</td>\n",
              "      <td>27.80</td>\n",
              "      <td>28.06</td>\n",
              "      <td>27.18</td>\n",
              "      <td>27.96</td>\n",
              "      <td>12480095</td>\n",
              "      <td>GOLD</td>\n",
              "    </tr>\n",
              "    <tr>\n",
              "      <th>499</th>\n",
              "      <td>2020-10-12</td>\n",
              "      <td>27.95</td>\n",
              "      <td>28.19</td>\n",
              "      <td>27.80</td>\n",
              "      <td>28.04</td>\n",
              "      <td>9850833</td>\n",
              "      <td>GOLD</td>\n",
              "    </tr>\n",
              "  </tbody>\n",
              "</table>\n",
              "</div>"
            ],
            "text/plain": [
              "      timestamp   open   high    low  close    volume stock_name\n",
              "495  2020-10-16  27.86  27.89  27.50  27.57   8991481       GOLD\n",
              "496  2020-10-15  27.97  28.08  27.56  27.75  10768733       GOLD\n",
              "497  2020-10-14  28.20  28.59  27.95  28.31  10603437       GOLD\n",
              "498  2020-10-13  27.80  28.06  27.18  27.96  12480095       GOLD\n",
              "499  2020-10-12  27.95  28.19  27.80  28.04   9850833       GOLD"
            ]
          },
          "metadata": {
            "tags": []
          },
          "execution_count": 13
        }
      ]
    },
    {
      "cell_type": "code",
      "metadata": {
        "id": "_msdleIgPBNk"
      },
      "source": [
        "deaths_df_long = deaths_df_long.groupby(['Country/Region','timestamp'])['death_cases'].sum().reset_index()\r\n",
        "confirm_df_long = confirm_df_long.groupby(['Country/Region','timestamp'])['confirmed_cases'].sum().reset_index()\r\n",
        "final_covid = pd.concat([deaths_df_long, confirm_df_long['confirmed_cases']], axis = 1)"
      ],
      "execution_count": 14,
      "outputs": []
    },
    {
      "cell_type": "code",
      "metadata": {
        "id": "bdd0ZdAaPI4D",
        "outputId": "c1e3ba89-1b9b-46a8-aeac-3854e78be814",
        "colab": {
          "base_uri": "https://localhost:8080/",
          "height": 204
        }
      },
      "source": [
        "final_covid.head()"
      ],
      "execution_count": 15,
      "outputs": [
        {
          "output_type": "execute_result",
          "data": {
            "text/html": [
              "<div>\n",
              "<style scoped>\n",
              "    .dataframe tbody tr th:only-of-type {\n",
              "        vertical-align: middle;\n",
              "    }\n",
              "\n",
              "    .dataframe tbody tr th {\n",
              "        vertical-align: top;\n",
              "    }\n",
              "\n",
              "    .dataframe thead th {\n",
              "        text-align: right;\n",
              "    }\n",
              "</style>\n",
              "<table border=\"1\" class=\"dataframe\">\n",
              "  <thead>\n",
              "    <tr style=\"text-align: right;\">\n",
              "      <th></th>\n",
              "      <th>Country/Region</th>\n",
              "      <th>timestamp</th>\n",
              "      <th>death_cases</th>\n",
              "      <th>confirmed_cases</th>\n",
              "    </tr>\n",
              "  </thead>\n",
              "  <tbody>\n",
              "    <tr>\n",
              "      <th>0</th>\n",
              "      <td>Afghanistan</td>\n",
              "      <td>1/1/21</td>\n",
              "      <td>2191</td>\n",
              "      <td>51526</td>\n",
              "    </tr>\n",
              "    <tr>\n",
              "      <th>1</th>\n",
              "      <td>Afghanistan</td>\n",
              "      <td>1/10/21</td>\n",
              "      <td>2277</td>\n",
              "      <td>53489</td>\n",
              "    </tr>\n",
              "    <tr>\n",
              "      <th>2</th>\n",
              "      <td>Afghanistan</td>\n",
              "      <td>1/11/21</td>\n",
              "      <td>2288</td>\n",
              "      <td>53538</td>\n",
              "    </tr>\n",
              "    <tr>\n",
              "      <th>3</th>\n",
              "      <td>Afghanistan</td>\n",
              "      <td>1/12/21</td>\n",
              "      <td>2301</td>\n",
              "      <td>53584</td>\n",
              "    </tr>\n",
              "    <tr>\n",
              "      <th>4</th>\n",
              "      <td>Afghanistan</td>\n",
              "      <td>1/13/21</td>\n",
              "      <td>2301</td>\n",
              "      <td>53584</td>\n",
              "    </tr>\n",
              "  </tbody>\n",
              "</table>\n",
              "</div>"
            ],
            "text/plain": [
              "  Country/Region timestamp  death_cases  confirmed_cases\n",
              "0    Afghanistan    1/1/21         2191            51526\n",
              "1    Afghanistan   1/10/21         2277            53489\n",
              "2    Afghanistan   1/11/21         2288            53538\n",
              "3    Afghanistan   1/12/21         2301            53584\n",
              "4    Afghanistan   1/13/21         2301            53584"
            ]
          },
          "metadata": {
            "tags": []
          },
          "execution_count": 15
        }
      ]
    },
    {
      "cell_type": "code",
      "metadata": {
        "id": "t7mNG6HvPNKE",
        "outputId": "03873b7e-da84-4126-948b-157917437d9a",
        "colab": {
          "base_uri": "https://localhost:8080/",
          "height": 204
        }
      },
      "source": [
        "final_covid.tail()"
      ],
      "execution_count": 16,
      "outputs": [
        {
          "output_type": "execute_result",
          "data": {
            "text/html": [
              "<div>\n",
              "<style scoped>\n",
              "    .dataframe tbody tr th:only-of-type {\n",
              "        vertical-align: middle;\n",
              "    }\n",
              "\n",
              "    .dataframe tbody tr th {\n",
              "        vertical-align: top;\n",
              "    }\n",
              "\n",
              "    .dataframe thead th {\n",
              "        text-align: right;\n",
              "    }\n",
              "</style>\n",
              "<table border=\"1\" class=\"dataframe\">\n",
              "  <thead>\n",
              "    <tr style=\"text-align: right;\">\n",
              "      <th></th>\n",
              "      <th>Country/Region</th>\n",
              "      <th>timestamp</th>\n",
              "      <th>death_cases</th>\n",
              "      <th>confirmed_cases</th>\n",
              "    </tr>\n",
              "  </thead>\n",
              "  <tbody>\n",
              "    <tr>\n",
              "      <th>78523</th>\n",
              "      <td>Zimbabwe</td>\n",
              "      <td>9/5/20</td>\n",
              "      <td>206</td>\n",
              "      <td>6837</td>\n",
              "    </tr>\n",
              "    <tr>\n",
              "      <th>78524</th>\n",
              "      <td>Zimbabwe</td>\n",
              "      <td>9/6/20</td>\n",
              "      <td>206</td>\n",
              "      <td>6837</td>\n",
              "    </tr>\n",
              "    <tr>\n",
              "      <th>78525</th>\n",
              "      <td>Zimbabwe</td>\n",
              "      <td>9/7/20</td>\n",
              "      <td>210</td>\n",
              "      <td>7298</td>\n",
              "    </tr>\n",
              "    <tr>\n",
              "      <th>78526</th>\n",
              "      <td>Zimbabwe</td>\n",
              "      <td>9/8/20</td>\n",
              "      <td>218</td>\n",
              "      <td>7388</td>\n",
              "    </tr>\n",
              "    <tr>\n",
              "      <th>78527</th>\n",
              "      <td>Zimbabwe</td>\n",
              "      <td>9/9/20</td>\n",
              "      <td>222</td>\n",
              "      <td>7429</td>\n",
              "    </tr>\n",
              "  </tbody>\n",
              "</table>\n",
              "</div>"
            ],
            "text/plain": [
              "      Country/Region timestamp  death_cases  confirmed_cases\n",
              "78523       Zimbabwe    9/5/20          206             6837\n",
              "78524       Zimbabwe    9/6/20          206             6837\n",
              "78525       Zimbabwe    9/7/20          210             7298\n",
              "78526       Zimbabwe    9/8/20          218             7388\n",
              "78527       Zimbabwe    9/9/20          222             7429"
            ]
          },
          "metadata": {
            "tags": []
          },
          "execution_count": 16
        }
      ]
    },
    {
      "cell_type": "code",
      "metadata": {
        "id": "w5Yk9G9SPTB9"
      },
      "source": [
        "final_covid['timestamp'] = pd.to_datetime(final_covid.timestamp)\r\n",
        "final_stock['timestamp'] = pd.to_datetime(final_stock.timestamp)"
      ],
      "execution_count": 17,
      "outputs": []
    },
    {
      "cell_type": "code",
      "metadata": {
        "id": "rC-PED-QPfKU"
      },
      "source": [
        "final_data = final_stock.merge(final_covid, on = 'timestamp', how = 'left')"
      ],
      "execution_count": 18,
      "outputs": []
    },
    {
      "cell_type": "code",
      "metadata": {
        "id": "UbtZE_zuPhyS",
        "outputId": "18159d91-a52d-4067-f4cd-df99cffa198f",
        "colab": {
          "base_uri": "https://localhost:8080/",
          "height": 204
        }
      },
      "source": [
        "final_data.head()"
      ],
      "execution_count": 19,
      "outputs": [
        {
          "output_type": "execute_result",
          "data": {
            "text/html": [
              "<div>\n",
              "<style scoped>\n",
              "    .dataframe tbody tr th:only-of-type {\n",
              "        vertical-align: middle;\n",
              "    }\n",
              "\n",
              "    .dataframe tbody tr th {\n",
              "        vertical-align: top;\n",
              "    }\n",
              "\n",
              "    .dataframe thead th {\n",
              "        text-align: right;\n",
              "    }\n",
              "</style>\n",
              "<table border=\"1\" class=\"dataframe\">\n",
              "  <thead>\n",
              "    <tr style=\"text-align: right;\">\n",
              "      <th></th>\n",
              "      <th>timestamp</th>\n",
              "      <th>open</th>\n",
              "      <th>high</th>\n",
              "      <th>low</th>\n",
              "      <th>close</th>\n",
              "      <th>volume</th>\n",
              "      <th>stock_name</th>\n",
              "      <th>Country/Region</th>\n",
              "      <th>death_cases</th>\n",
              "      <th>confirmed_cases</th>\n",
              "    </tr>\n",
              "  </thead>\n",
              "  <tbody>\n",
              "    <tr>\n",
              "      <th>0</th>\n",
              "      <td>2021-03-05</td>\n",
              "      <td>229.5165</td>\n",
              "      <td>233.27</td>\n",
              "      <td>226.46</td>\n",
              "      <td>231.6</td>\n",
              "      <td>41872770</td>\n",
              "      <td>MSFT</td>\n",
              "      <td>Afghanistan</td>\n",
              "      <td>2449</td>\n",
              "      <td>55827</td>\n",
              "    </tr>\n",
              "    <tr>\n",
              "      <th>1</th>\n",
              "      <td>2021-03-05</td>\n",
              "      <td>229.5165</td>\n",
              "      <td>233.27</td>\n",
              "      <td>226.46</td>\n",
              "      <td>231.6</td>\n",
              "      <td>41872770</td>\n",
              "      <td>MSFT</td>\n",
              "      <td>Albania</td>\n",
              "      <td>1897</td>\n",
              "      <td>111301</td>\n",
              "    </tr>\n",
              "    <tr>\n",
              "      <th>2</th>\n",
              "      <td>2021-03-05</td>\n",
              "      <td>229.5165</td>\n",
              "      <td>233.27</td>\n",
              "      <td>226.46</td>\n",
              "      <td>231.6</td>\n",
              "      <td>41872770</td>\n",
              "      <td>MSFT</td>\n",
              "      <td>Algeria</td>\n",
              "      <td>3007</td>\n",
              "      <td>113948</td>\n",
              "    </tr>\n",
              "    <tr>\n",
              "      <th>3</th>\n",
              "      <td>2021-03-05</td>\n",
              "      <td>229.5165</td>\n",
              "      <td>233.27</td>\n",
              "      <td>226.46</td>\n",
              "      <td>231.6</td>\n",
              "      <td>41872770</td>\n",
              "      <td>MSFT</td>\n",
              "      <td>Andorra</td>\n",
              "      <td>112</td>\n",
              "      <td>10998</td>\n",
              "    </tr>\n",
              "    <tr>\n",
              "      <th>4</th>\n",
              "      <td>2021-03-05</td>\n",
              "      <td>229.5165</td>\n",
              "      <td>233.27</td>\n",
              "      <td>226.46</td>\n",
              "      <td>231.6</td>\n",
              "      <td>41872770</td>\n",
              "      <td>MSFT</td>\n",
              "      <td>Angola</td>\n",
              "      <td>511</td>\n",
              "      <td>21026</td>\n",
              "    </tr>\n",
              "  </tbody>\n",
              "</table>\n",
              "</div>"
            ],
            "text/plain": [
              "   timestamp      open    high  ...  Country/Region  death_cases  confirmed_cases\n",
              "0 2021-03-05  229.5165  233.27  ...     Afghanistan         2449            55827\n",
              "1 2021-03-05  229.5165  233.27  ...         Albania         1897           111301\n",
              "2 2021-03-05  229.5165  233.27  ...         Algeria         3007           113948\n",
              "3 2021-03-05  229.5165  233.27  ...         Andorra          112            10998\n",
              "4 2021-03-05  229.5165  233.27  ...          Angola          511            21026\n",
              "\n",
              "[5 rows x 10 columns]"
            ]
          },
          "metadata": {
            "tags": []
          },
          "execution_count": 19
        }
      ]
    },
    {
      "cell_type": "code",
      "metadata": {
        "id": "fhhTojtfPqsM",
        "outputId": "c84912cc-b51c-46d3-ac6e-061525ddaa09",
        "colab": {
          "base_uri": "https://localhost:8080/"
        }
      },
      "source": [
        "final_data.shape"
      ],
      "execution_count": 20,
      "outputs": [
        {
          "output_type": "execute_result",
          "data": {
            "text/plain": [
              "(96000, 10)"
            ]
          },
          "metadata": {
            "tags": []
          },
          "execution_count": 20
        }
      ]
    },
    {
      "cell_type": "code",
      "metadata": {
        "id": "q6jGsL54Pvsd",
        "outputId": "f334f8ae-aa6e-4eeb-eabf-de8724885abf",
        "colab": {
          "base_uri": "https://localhost:8080/"
        }
      },
      "source": [
        "final_data.timestamp.min()"
      ],
      "execution_count": 21,
      "outputs": [
        {
          "output_type": "execute_result",
          "data": {
            "text/plain": [
              "Timestamp('2020-10-12 00:00:00')"
            ]
          },
          "metadata": {
            "tags": []
          },
          "execution_count": 21
        }
      ]
    },
    {
      "cell_type": "code",
      "metadata": {
        "id": "ytqriHf1Pyri",
        "outputId": "1bb58678-1b6f-47b5-b05a-954663f49c7d",
        "colab": {
          "base_uri": "https://localhost:8080/"
        }
      },
      "source": [
        "final_data.timestamp.max()"
      ],
      "execution_count": 22,
      "outputs": [
        {
          "output_type": "execute_result",
          "data": {
            "text/plain": [
              "Timestamp('2021-03-05 00:00:00')"
            ]
          },
          "metadata": {
            "tags": []
          },
          "execution_count": 22
        }
      ]
    },
    {
      "cell_type": "code",
      "metadata": {
        "id": "0Asx_ai3P6Lr",
        "outputId": "4e31c5e5-04a6-4343-fdc0-b42f118dede0",
        "colab": {
          "base_uri": "https://localhost:8080/"
        }
      },
      "source": [
        "final_data.isna().sum()"
      ],
      "execution_count": 23,
      "outputs": [
        {
          "output_type": "execute_result",
          "data": {
            "text/plain": [
              "timestamp          0\n",
              "open               0\n",
              "high               0\n",
              "low                0\n",
              "close              0\n",
              "volume             0\n",
              "stock_name         0\n",
              "Country/Region     0\n",
              "death_cases        0\n",
              "confirmed_cases    0\n",
              "dtype: int64"
            ]
          },
          "metadata": {
            "tags": []
          },
          "execution_count": 23
        }
      ]
    },
    {
      "cell_type": "code",
      "metadata": {
        "id": "QXw-6JjaQEm4"
      },
      "source": [
        "MSFT_final = final_data[final_data.stock_name == 'MSFT']"
      ],
      "execution_count": 24,
      "outputs": []
    },
    {
      "cell_type": "code",
      "metadata": {
        "id": "AAlLNw6GQIZq",
        "outputId": "4d0497a9-177f-42b5-d035-3f3fee73ae04",
        "colab": {
          "base_uri": "https://localhost:8080/",
          "height": 204
        }
      },
      "source": [
        "MSFT_final.head()"
      ],
      "execution_count": 25,
      "outputs": [
        {
          "output_type": "execute_result",
          "data": {
            "text/html": [
              "<div>\n",
              "<style scoped>\n",
              "    .dataframe tbody tr th:only-of-type {\n",
              "        vertical-align: middle;\n",
              "    }\n",
              "\n",
              "    .dataframe tbody tr th {\n",
              "        vertical-align: top;\n",
              "    }\n",
              "\n",
              "    .dataframe thead th {\n",
              "        text-align: right;\n",
              "    }\n",
              "</style>\n",
              "<table border=\"1\" class=\"dataframe\">\n",
              "  <thead>\n",
              "    <tr style=\"text-align: right;\">\n",
              "      <th></th>\n",
              "      <th>timestamp</th>\n",
              "      <th>open</th>\n",
              "      <th>high</th>\n",
              "      <th>low</th>\n",
              "      <th>close</th>\n",
              "      <th>volume</th>\n",
              "      <th>stock_name</th>\n",
              "      <th>Country/Region</th>\n",
              "      <th>death_cases</th>\n",
              "      <th>confirmed_cases</th>\n",
              "    </tr>\n",
              "  </thead>\n",
              "  <tbody>\n",
              "    <tr>\n",
              "      <th>0</th>\n",
              "      <td>2021-03-05</td>\n",
              "      <td>229.5165</td>\n",
              "      <td>233.27</td>\n",
              "      <td>226.46</td>\n",
              "      <td>231.6</td>\n",
              "      <td>41872770</td>\n",
              "      <td>MSFT</td>\n",
              "      <td>Afghanistan</td>\n",
              "      <td>2449</td>\n",
              "      <td>55827</td>\n",
              "    </tr>\n",
              "    <tr>\n",
              "      <th>1</th>\n",
              "      <td>2021-03-05</td>\n",
              "      <td>229.5165</td>\n",
              "      <td>233.27</td>\n",
              "      <td>226.46</td>\n",
              "      <td>231.6</td>\n",
              "      <td>41872770</td>\n",
              "      <td>MSFT</td>\n",
              "      <td>Albania</td>\n",
              "      <td>1897</td>\n",
              "      <td>111301</td>\n",
              "    </tr>\n",
              "    <tr>\n",
              "      <th>2</th>\n",
              "      <td>2021-03-05</td>\n",
              "      <td>229.5165</td>\n",
              "      <td>233.27</td>\n",
              "      <td>226.46</td>\n",
              "      <td>231.6</td>\n",
              "      <td>41872770</td>\n",
              "      <td>MSFT</td>\n",
              "      <td>Algeria</td>\n",
              "      <td>3007</td>\n",
              "      <td>113948</td>\n",
              "    </tr>\n",
              "    <tr>\n",
              "      <th>3</th>\n",
              "      <td>2021-03-05</td>\n",
              "      <td>229.5165</td>\n",
              "      <td>233.27</td>\n",
              "      <td>226.46</td>\n",
              "      <td>231.6</td>\n",
              "      <td>41872770</td>\n",
              "      <td>MSFT</td>\n",
              "      <td>Andorra</td>\n",
              "      <td>112</td>\n",
              "      <td>10998</td>\n",
              "    </tr>\n",
              "    <tr>\n",
              "      <th>4</th>\n",
              "      <td>2021-03-05</td>\n",
              "      <td>229.5165</td>\n",
              "      <td>233.27</td>\n",
              "      <td>226.46</td>\n",
              "      <td>231.6</td>\n",
              "      <td>41872770</td>\n",
              "      <td>MSFT</td>\n",
              "      <td>Angola</td>\n",
              "      <td>511</td>\n",
              "      <td>21026</td>\n",
              "    </tr>\n",
              "  </tbody>\n",
              "</table>\n",
              "</div>"
            ],
            "text/plain": [
              "   timestamp      open    high  ...  Country/Region  death_cases  confirmed_cases\n",
              "0 2021-03-05  229.5165  233.27  ...     Afghanistan         2449            55827\n",
              "1 2021-03-05  229.5165  233.27  ...         Albania         1897           111301\n",
              "2 2021-03-05  229.5165  233.27  ...         Algeria         3007           113948\n",
              "3 2021-03-05  229.5165  233.27  ...         Andorra          112            10998\n",
              "4 2021-03-05  229.5165  233.27  ...          Angola          511            21026\n",
              "\n",
              "[5 rows x 10 columns]"
            ]
          },
          "metadata": {
            "tags": []
          },
          "execution_count": 25
        }
      ]
    }
  ]
}