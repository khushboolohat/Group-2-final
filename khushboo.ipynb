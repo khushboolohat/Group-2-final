{
  "nbformat": 4,
  "nbformat_minor": 0,
  "metadata": {
    "colab": {
      "name": "khushboo.ipynb",
      "provenance": [],
      "include_colab_link": true
    },
    "kernelspec": {
      "name": "python3",
      "display_name": "Python 3"
    }
  },
  "cells": [
    {
      "cell_type": "markdown",
      "metadata": {
        "id": "view-in-github",
        "colab_type": "text"
      },
      "source": [
        "<a href=\"https://colab.research.google.com/github/khushboolohat/Group-2-final/blob/Raman8695/khushboo.ipynb\" target=\"_parent\"><img src=\"https://colab.research.google.com/assets/colab-badge.svg\" alt=\"Open In Colab\"/></a>"
      ]
    },
    {
      "cell_type": "code",
      "metadata": {
        "id": "T9OH59Z27yYe"
      },
      "source": [
        "#new file"
      ],
      "execution_count": null,
      "outputs": []
    },
    {
      "cell_type": "code",
      "metadata": {
        "colab": {
          "base_uri": "https://localhost:8080/"
        },
        "id": "ykvcdqJJ-XAa",
        "outputId": "6e1fc896-6af0-45cd-a970-812fbc837e09"
      },
      "source": [
        "import pandas as pd\r\n",
        "import numpy as np\r\n",
        "from matplotlib import pyplot as plt\r\n",
        "import seaborn as sns\r\n",
        "! pip install alpha-vantage\r\n",
        "from alpha_vantage.timeseries import TimeSeries"
      ],
      "execution_count": 20,
      "outputs": [
        {
          "output_type": "stream",
          "text": [
            "Requirement already satisfied: alpha-vantage in /usr/local/lib/python3.7/dist-packages (2.3.1)\n",
            "Requirement already satisfied: aiohttp in /usr/local/lib/python3.7/dist-packages (from alpha-vantage) (3.7.4)\n",
            "Requirement already satisfied: requests in /usr/local/lib/python3.7/dist-packages (from alpha-vantage) (2.23.0)\n",
            "Requirement already satisfied: multidict<7.0,>=4.5 in /usr/local/lib/python3.7/dist-packages (from aiohttp->alpha-vantage) (5.1.0)\n",
            "Requirement already satisfied: chardet<4.0,>=2.0 in /usr/local/lib/python3.7/dist-packages (from aiohttp->alpha-vantage) (3.0.4)\n",
            "Requirement already satisfied: attrs>=17.3.0 in /usr/local/lib/python3.7/dist-packages (from aiohttp->alpha-vantage) (20.3.0)\n",
            "Requirement already satisfied: typing-extensions>=3.6.5 in /usr/local/lib/python3.7/dist-packages (from aiohttp->alpha-vantage) (3.7.4.3)\n",
            "Requirement already satisfied: yarl<2.0,>=1.0 in /usr/local/lib/python3.7/dist-packages (from aiohttp->alpha-vantage) (1.6.3)\n",
            "Requirement already satisfied: async-timeout<4.0,>=3.0 in /usr/local/lib/python3.7/dist-packages (from aiohttp->alpha-vantage) (3.0.1)\n",
            "Requirement already satisfied: urllib3!=1.25.0,!=1.25.1,<1.26,>=1.21.1 in /usr/local/lib/python3.7/dist-packages (from requests->alpha-vantage) (1.24.3)\n",
            "Requirement already satisfied: certifi>=2017.4.17 in /usr/local/lib/python3.7/dist-packages (from requests->alpha-vantage) (2020.12.5)\n",
            "Requirement already satisfied: idna<3,>=2.5 in /usr/local/lib/python3.7/dist-packages (from requests->alpha-vantage) (2.10)\n"
          ],
          "name": "stdout"
        }
      ]
    },
    {
      "cell_type": "code",
      "metadata": {
        "id": "BYri07sn-mc5"
      },
      "source": [
        "demo = 'GF6ZHIZTJZE9APJY.' #YOUR API KEY HERE"
      ],
      "execution_count": 21,
      "outputs": []
    },
    {
      "cell_type": "code",
      "metadata": {
        "id": "MrPzElKl-5dL"
      },
      "source": [
        "url_global_deaths = r\"https://raw.githubusercontent.com/CSSEGISandData/COVID-19/master/csse_covid_19_data/csse_covid_19_time_series/time_series_covid19_deaths_global.csv\"\r\n",
        "url_global_confirmed = r\"https://raw.githubusercontent.com/CSSEGISandData/COVID-19/master/csse_covid_19_data/csse_covid_19_time_series/time_series_covid19_confirmed_global.csv\"\r\n",
        "url_retail_stock = r'https://www.alphavantage.co/query?function=TIME_SERIES_DAILY&symbol=NYSE:SPG&apikey=' + demo + '&datatype=csv'\r\n",
        "url_usa_stock = r'https://www.alphavantage.co/query?function=TIME_SERIES_DAILY&symbol=MSFT&apikey=' + demo + '&datatype=csv'\r\n",
        "url_canada_stock = r'https://www.alphavantage.co/query?function=TIME_SERIES_DAILY&symbol=TSE:BB&apikey=' + demo + '&datatype=csv'\r\n",
        "url_travel_stock = r'https://www.alphavantage.co/query?function=TIME_SERIES_DAILY&symbol=EXPE&apikey=' + demo + '&datatype=csv'\r\n",
        "url_material_stock = r'https://www.alphavantage.co/query?function=TIME_SERIES_DAILY&symbol=NYSE:GOLD&apikey=' + demo + '&datatype=csv'"
      ],
      "execution_count": 22,
      "outputs": []
    },
    {
      "cell_type": "code",
      "metadata": {
        "id": "WOLy9MxCC78v"
      },
      "source": [
        "deaths_df = pd.read_csv(url_global_deaths)\r\n",
        "confirm_df = pd.read_csv(url_global_confirmed)\r\n",
        "us_stock = pd.read_csv(url_usa_stock)\r\n",
        "ca_stock = pd.read_csv(url_canada_stock)\r\n",
        "retail_stock = pd.read_csv(url_retail_stock)\r\n",
        "travel_stock = pd.read_csv(url_travel_stock)\r\n",
        "material_stock = pd.read_csv(url_material_stock)"
      ],
      "execution_count": 23,
      "outputs": []
    },
    {
      "cell_type": "code",
      "metadata": {
        "colab": {
          "base_uri": "https://localhost:8080/"
        },
        "id": "WerrqH_iDPPh",
        "outputId": "22fc1fd9-10a9-4441-ecbf-b0e5e3266125"
      },
      "source": [
        "print(deaths_df.shape)\r\n",
        "print(confirm_df.shape)\r\n",
        "print(us_stock.shape)\r\n",
        "print(ca_stock.shape)\r\n",
        "print(retail_stock.shape)\r\n",
        "print(travel_stock.shape)\r\n",
        "print(material_stock.shape)"
      ],
      "execution_count": 24,
      "outputs": [
        {
          "output_type": "stream",
          "text": [
            "(274, 413)\n",
            "(274, 413)\n",
            "(100, 6)\n",
            "(100, 6)\n",
            "(100, 6)\n",
            "(100, 6)\n",
            "(100, 6)\n"
          ],
          "name": "stdout"
        }
      ]
    },
    {
      "cell_type": "code",
      "metadata": {
        "id": "ry5WdUXNIvGk"
      },
      "source": [
        "deaths_df_long = pd.melt(deaths_df, id_vars=['Province/State', 'Country/Region', 'Lat', 'Long'],\r\n",
        "                        value_vars= deaths_df.columns[4:], var_name='timestamp', value_name='death_cases')\r\n",
        "\r\n",
        "confirm_df_long = pd.melt(confirm_df, id_vars=['Province/State', 'Country/Region', 'Lat', 'Long'],\r\n",
        "                        value_vars= confirm_df.columns[4:], var_name='timestamp', value_name='confirmed_cases')"
      ],
      "execution_count": 25,
      "outputs": []
    },
    {
      "cell_type": "code",
      "metadata": {
        "id": "bkjQl1qKOgWR",
        "colab": {
          "base_uri": "https://localhost:8080/",
          "height": 191
        },
        "outputId": "c54d7445-8224-48c1-f957-ff07706642b0"
      },
      "source": [
        "deaths_df_long.head()"
      ],
      "execution_count": 26,
      "outputs": [
        {
          "output_type": "execute_result",
          "data": {
            "text/html": [
              "<div>\n",
              "<style scoped>\n",
              "    .dataframe tbody tr th:only-of-type {\n",
              "        vertical-align: middle;\n",
              "    }\n",
              "\n",
              "    .dataframe tbody tr th {\n",
              "        vertical-align: top;\n",
              "    }\n",
              "\n",
              "    .dataframe thead th {\n",
              "        text-align: right;\n",
              "    }\n",
              "</style>\n",
              "<table border=\"1\" class=\"dataframe\">\n",
              "  <thead>\n",
              "    <tr style=\"text-align: right;\">\n",
              "      <th></th>\n",
              "      <th>Province/State</th>\n",
              "      <th>Country/Region</th>\n",
              "      <th>Lat</th>\n",
              "      <th>Long</th>\n",
              "      <th>timestamp</th>\n",
              "      <th>death_cases</th>\n",
              "    </tr>\n",
              "  </thead>\n",
              "  <tbody>\n",
              "    <tr>\n",
              "      <th>0</th>\n",
              "      <td>NaN</td>\n",
              "      <td>Afghanistan</td>\n",
              "      <td>33.93911</td>\n",
              "      <td>67.709953</td>\n",
              "      <td>1/22/20</td>\n",
              "      <td>0</td>\n",
              "    </tr>\n",
              "    <tr>\n",
              "      <th>1</th>\n",
              "      <td>NaN</td>\n",
              "      <td>Albania</td>\n",
              "      <td>41.15330</td>\n",
              "      <td>20.168300</td>\n",
              "      <td>1/22/20</td>\n",
              "      <td>0</td>\n",
              "    </tr>\n",
              "    <tr>\n",
              "      <th>2</th>\n",
              "      <td>NaN</td>\n",
              "      <td>Algeria</td>\n",
              "      <td>28.03390</td>\n",
              "      <td>1.659600</td>\n",
              "      <td>1/22/20</td>\n",
              "      <td>0</td>\n",
              "    </tr>\n",
              "    <tr>\n",
              "      <th>3</th>\n",
              "      <td>NaN</td>\n",
              "      <td>Andorra</td>\n",
              "      <td>42.50630</td>\n",
              "      <td>1.521800</td>\n",
              "      <td>1/22/20</td>\n",
              "      <td>0</td>\n",
              "    </tr>\n",
              "    <tr>\n",
              "      <th>4</th>\n",
              "      <td>NaN</td>\n",
              "      <td>Angola</td>\n",
              "      <td>-11.20270</td>\n",
              "      <td>17.873900</td>\n",
              "      <td>1/22/20</td>\n",
              "      <td>0</td>\n",
              "    </tr>\n",
              "  </tbody>\n",
              "</table>\n",
              "</div>"
            ],
            "text/plain": [
              "  Province/State Country/Region       Lat       Long timestamp  death_cases\n",
              "0            NaN    Afghanistan  33.93911  67.709953   1/22/20            0\n",
              "1            NaN        Albania  41.15330  20.168300   1/22/20            0\n",
              "2            NaN        Algeria  28.03390   1.659600   1/22/20            0\n",
              "3            NaN        Andorra  42.50630   1.521800   1/22/20            0\n",
              "4            NaN         Angola -11.20270  17.873900   1/22/20            0"
            ]
          },
          "metadata": {
            "tags": []
          },
          "execution_count": 26
        }
      ]
    },
    {
      "cell_type": "code",
      "metadata": {
        "colab": {
          "base_uri": "https://localhost:8080/",
          "height": 191
        },
        "id": "4X4NSYGdMiYF",
        "outputId": "898bfc31-0fb5-4c57-9c76-8c97a8c5ea7a"
      },
      "source": [
        "confirm_df_long.head()"
      ],
      "execution_count": 27,
      "outputs": [
        {
          "output_type": "execute_result",
          "data": {
            "text/html": [
              "<div>\n",
              "<style scoped>\n",
              "    .dataframe tbody tr th:only-of-type {\n",
              "        vertical-align: middle;\n",
              "    }\n",
              "\n",
              "    .dataframe tbody tr th {\n",
              "        vertical-align: top;\n",
              "    }\n",
              "\n",
              "    .dataframe thead th {\n",
              "        text-align: right;\n",
              "    }\n",
              "</style>\n",
              "<table border=\"1\" class=\"dataframe\">\n",
              "  <thead>\n",
              "    <tr style=\"text-align: right;\">\n",
              "      <th></th>\n",
              "      <th>Province/State</th>\n",
              "      <th>Country/Region</th>\n",
              "      <th>Lat</th>\n",
              "      <th>Long</th>\n",
              "      <th>timestamp</th>\n",
              "      <th>confirmed_cases</th>\n",
              "    </tr>\n",
              "  </thead>\n",
              "  <tbody>\n",
              "    <tr>\n",
              "      <th>0</th>\n",
              "      <td>NaN</td>\n",
              "      <td>Afghanistan</td>\n",
              "      <td>33.93911</td>\n",
              "      <td>67.709953</td>\n",
              "      <td>1/22/20</td>\n",
              "      <td>0</td>\n",
              "    </tr>\n",
              "    <tr>\n",
              "      <th>1</th>\n",
              "      <td>NaN</td>\n",
              "      <td>Albania</td>\n",
              "      <td>41.15330</td>\n",
              "      <td>20.168300</td>\n",
              "      <td>1/22/20</td>\n",
              "      <td>0</td>\n",
              "    </tr>\n",
              "    <tr>\n",
              "      <th>2</th>\n",
              "      <td>NaN</td>\n",
              "      <td>Algeria</td>\n",
              "      <td>28.03390</td>\n",
              "      <td>1.659600</td>\n",
              "      <td>1/22/20</td>\n",
              "      <td>0</td>\n",
              "    </tr>\n",
              "    <tr>\n",
              "      <th>3</th>\n",
              "      <td>NaN</td>\n",
              "      <td>Andorra</td>\n",
              "      <td>42.50630</td>\n",
              "      <td>1.521800</td>\n",
              "      <td>1/22/20</td>\n",
              "      <td>0</td>\n",
              "    </tr>\n",
              "    <tr>\n",
              "      <th>4</th>\n",
              "      <td>NaN</td>\n",
              "      <td>Angola</td>\n",
              "      <td>-11.20270</td>\n",
              "      <td>17.873900</td>\n",
              "      <td>1/22/20</td>\n",
              "      <td>0</td>\n",
              "    </tr>\n",
              "  </tbody>\n",
              "</table>\n",
              "</div>"
            ],
            "text/plain": [
              "  Province/State Country/Region       Lat       Long timestamp  confirmed_cases\n",
              "0            NaN    Afghanistan  33.93911  67.709953   1/22/20                0\n",
              "1            NaN        Albania  41.15330  20.168300   1/22/20                0\n",
              "2            NaN        Algeria  28.03390   1.659600   1/22/20                0\n",
              "3            NaN        Andorra  42.50630   1.521800   1/22/20                0\n",
              "4            NaN         Angola -11.20270  17.873900   1/22/20                0"
            ]
          },
          "metadata": {
            "tags": []
          },
          "execution_count": 27
        }
      ]
    },
    {
      "cell_type": "code",
      "metadata": {
        "id": "Hm9Mn8JoOYpT"
      },
      "source": [
        "us_stock['stock_name'] = 'MSFT'\r\n",
        "ca_stock['stock_name'] = 'BB'\r\n",
        "retail_stock['stock_name'] = 'SPG'\r\n",
        "travel_stock['stock_name'] = 'EXPE'\r\n",
        "material_stock['stock_name'] = 'GOLD'"
      ],
      "execution_count": 28,
      "outputs": []
    },
    {
      "cell_type": "code",
      "metadata": {
        "id": "XUfJuED_Otw0",
        "colab": {
          "base_uri": "https://localhost:8080/"
        },
        "outputId": "726e98ca-8a64-4b17-fed0-f52a5f29ea62"
      },
      "source": [
        "final_stock = pd.concat([us_stock, ca_stock, retail_stock, travel_stock, material_stock]).reset_index(drop = True)\r\n",
        "final_stock.stock_name.unique()"
      ],
      "execution_count": 29,
      "outputs": [
        {
          "output_type": "execute_result",
          "data": {
            "text/plain": [
              "array(['MSFT', 'BB', 'SPG', 'EXPE', 'GOLD'], dtype=object)"
            ]
          },
          "metadata": {
            "tags": []
          },
          "execution_count": 29
        }
      ]
    },
    {
      "cell_type": "code",
      "metadata": {
        "id": "O31dzw_jO0z5",
        "colab": {
          "base_uri": "https://localhost:8080/"
        },
        "outputId": "b3bda08e-074d-4146-faf4-c796ebdb0fa6"
      },
      "source": [
        "final_stock.shape"
      ],
      "execution_count": 30,
      "outputs": [
        {
          "output_type": "execute_result",
          "data": {
            "text/plain": [
              "(500, 7)"
            ]
          },
          "metadata": {
            "tags": []
          },
          "execution_count": 30
        }
      ]
    },
    {
      "cell_type": "code",
      "metadata": {
        "id": "uJE5XqIkO6QZ",
        "colab": {
          "base_uri": "https://localhost:8080/",
          "height": 191
        },
        "outputId": "2c686343-a6d3-4410-e006-4c0282c76b5f"
      },
      "source": [
        "final_stock.tail()"
      ],
      "execution_count": 31,
      "outputs": [
        {
          "output_type": "execute_result",
          "data": {
            "text/html": [
              "<div>\n",
              "<style scoped>\n",
              "    .dataframe tbody tr th:only-of-type {\n",
              "        vertical-align: middle;\n",
              "    }\n",
              "\n",
              "    .dataframe tbody tr th {\n",
              "        vertical-align: top;\n",
              "    }\n",
              "\n",
              "    .dataframe thead th {\n",
              "        text-align: right;\n",
              "    }\n",
              "</style>\n",
              "<table border=\"1\" class=\"dataframe\">\n",
              "  <thead>\n",
              "    <tr style=\"text-align: right;\">\n",
              "      <th></th>\n",
              "      <th>timestamp</th>\n",
              "      <th>open</th>\n",
              "      <th>high</th>\n",
              "      <th>low</th>\n",
              "      <th>close</th>\n",
              "      <th>volume</th>\n",
              "      <th>stock_name</th>\n",
              "    </tr>\n",
              "  </thead>\n",
              "  <tbody>\n",
              "    <tr>\n",
              "      <th>495</th>\n",
              "      <td>2020-10-16</td>\n",
              "      <td>27.86</td>\n",
              "      <td>27.89</td>\n",
              "      <td>27.50</td>\n",
              "      <td>27.57</td>\n",
              "      <td>8991481</td>\n",
              "      <td>GOLD</td>\n",
              "    </tr>\n",
              "    <tr>\n",
              "      <th>496</th>\n",
              "      <td>2020-10-15</td>\n",
              "      <td>27.97</td>\n",
              "      <td>28.08</td>\n",
              "      <td>27.56</td>\n",
              "      <td>27.75</td>\n",
              "      <td>10768733</td>\n",
              "      <td>GOLD</td>\n",
              "    </tr>\n",
              "    <tr>\n",
              "      <th>497</th>\n",
              "      <td>2020-10-14</td>\n",
              "      <td>28.20</td>\n",
              "      <td>28.59</td>\n",
              "      <td>27.95</td>\n",
              "      <td>28.31</td>\n",
              "      <td>10603437</td>\n",
              "      <td>GOLD</td>\n",
              "    </tr>\n",
              "    <tr>\n",
              "      <th>498</th>\n",
              "      <td>2020-10-13</td>\n",
              "      <td>27.80</td>\n",
              "      <td>28.06</td>\n",
              "      <td>27.18</td>\n",
              "      <td>27.96</td>\n",
              "      <td>12480095</td>\n",
              "      <td>GOLD</td>\n",
              "    </tr>\n",
              "    <tr>\n",
              "      <th>499</th>\n",
              "      <td>2020-10-12</td>\n",
              "      <td>27.95</td>\n",
              "      <td>28.19</td>\n",
              "      <td>27.80</td>\n",
              "      <td>28.04</td>\n",
              "      <td>9850833</td>\n",
              "      <td>GOLD</td>\n",
              "    </tr>\n",
              "  </tbody>\n",
              "</table>\n",
              "</div>"
            ],
            "text/plain": [
              "      timestamp   open   high    low  close    volume stock_name\n",
              "495  2020-10-16  27.86  27.89  27.50  27.57   8991481       GOLD\n",
              "496  2020-10-15  27.97  28.08  27.56  27.75  10768733       GOLD\n",
              "497  2020-10-14  28.20  28.59  27.95  28.31  10603437       GOLD\n",
              "498  2020-10-13  27.80  28.06  27.18  27.96  12480095       GOLD\n",
              "499  2020-10-12  27.95  28.19  27.80  28.04   9850833       GOLD"
            ]
          },
          "metadata": {
            "tags": []
          },
          "execution_count": 31
        }
      ]
    },
    {
      "cell_type": "code",
      "metadata": {
        "id": "_msdleIgPBNk"
      },
      "source": [
        "deaths_df_long = deaths_df_long.groupby(['Country/Region','timestamp'])['death_cases'].sum().reset_index()\r\n",
        "confirm_df_long = confirm_df_long.groupby(['Country/Region','timestamp'])['confirmed_cases'].sum().reset_index()\r\n",
        "final_covid = pd.concat([deaths_df_long, confirm_df_long['confirmed_cases']], axis = 1)"
      ],
      "execution_count": 32,
      "outputs": []
    },
    {
      "cell_type": "code",
      "metadata": {
        "id": "bdd0ZdAaPI4D",
        "colab": {
          "base_uri": "https://localhost:8080/",
          "height": 191
        },
        "outputId": "d9318980-1c28-4299-fa9c-d42c7eea7cbc"
      },
      "source": [
        "final_covid.head()"
      ],
      "execution_count": 33,
      "outputs": [
        {
          "output_type": "execute_result",
          "data": {
            "text/html": [
              "<div>\n",
              "<style scoped>\n",
              "    .dataframe tbody tr th:only-of-type {\n",
              "        vertical-align: middle;\n",
              "    }\n",
              "\n",
              "    .dataframe tbody tr th {\n",
              "        vertical-align: top;\n",
              "    }\n",
              "\n",
              "    .dataframe thead th {\n",
              "        text-align: right;\n",
              "    }\n",
              "</style>\n",
              "<table border=\"1\" class=\"dataframe\">\n",
              "  <thead>\n",
              "    <tr style=\"text-align: right;\">\n",
              "      <th></th>\n",
              "      <th>Country/Region</th>\n",
              "      <th>timestamp</th>\n",
              "      <th>death_cases</th>\n",
              "      <th>confirmed_cases</th>\n",
              "    </tr>\n",
              "  </thead>\n",
              "  <tbody>\n",
              "    <tr>\n",
              "      <th>0</th>\n",
              "      <td>Afghanistan</td>\n",
              "      <td>1/1/21</td>\n",
              "      <td>2191</td>\n",
              "      <td>51526</td>\n",
              "    </tr>\n",
              "    <tr>\n",
              "      <th>1</th>\n",
              "      <td>Afghanistan</td>\n",
              "      <td>1/10/21</td>\n",
              "      <td>2277</td>\n",
              "      <td>53489</td>\n",
              "    </tr>\n",
              "    <tr>\n",
              "      <th>2</th>\n",
              "      <td>Afghanistan</td>\n",
              "      <td>1/11/21</td>\n",
              "      <td>2288</td>\n",
              "      <td>53538</td>\n",
              "    </tr>\n",
              "    <tr>\n",
              "      <th>3</th>\n",
              "      <td>Afghanistan</td>\n",
              "      <td>1/12/21</td>\n",
              "      <td>2301</td>\n",
              "      <td>53584</td>\n",
              "    </tr>\n",
              "    <tr>\n",
              "      <th>4</th>\n",
              "      <td>Afghanistan</td>\n",
              "      <td>1/13/21</td>\n",
              "      <td>2301</td>\n",
              "      <td>53584</td>\n",
              "    </tr>\n",
              "  </tbody>\n",
              "</table>\n",
              "</div>"
            ],
            "text/plain": [
              "  Country/Region timestamp  death_cases  confirmed_cases\n",
              "0    Afghanistan    1/1/21         2191            51526\n",
              "1    Afghanistan   1/10/21         2277            53489\n",
              "2    Afghanistan   1/11/21         2288            53538\n",
              "3    Afghanistan   1/12/21         2301            53584\n",
              "4    Afghanistan   1/13/21         2301            53584"
            ]
          },
          "metadata": {
            "tags": []
          },
          "execution_count": 33
        }
      ]
    },
    {
      "cell_type": "code",
      "metadata": {
        "id": "t7mNG6HvPNKE",
        "colab": {
          "base_uri": "https://localhost:8080/",
          "height": 191
        },
        "outputId": "9ef1cf23-1e90-4965-a0e4-7887c38f7b85"
      },
      "source": [
        "final_covid.tail()"
      ],
      "execution_count": 34,
      "outputs": [
        {
          "output_type": "execute_result",
          "data": {
            "text/html": [
              "<div>\n",
              "<style scoped>\n",
              "    .dataframe tbody tr th:only-of-type {\n",
              "        vertical-align: middle;\n",
              "    }\n",
              "\n",
              "    .dataframe tbody tr th {\n",
              "        vertical-align: top;\n",
              "    }\n",
              "\n",
              "    .dataframe thead th {\n",
              "        text-align: right;\n",
              "    }\n",
              "</style>\n",
              "<table border=\"1\" class=\"dataframe\">\n",
              "  <thead>\n",
              "    <tr style=\"text-align: right;\">\n",
              "      <th></th>\n",
              "      <th>Country/Region</th>\n",
              "      <th>timestamp</th>\n",
              "      <th>death_cases</th>\n",
              "      <th>confirmed_cases</th>\n",
              "    </tr>\n",
              "  </thead>\n",
              "  <tbody>\n",
              "    <tr>\n",
              "      <th>78523</th>\n",
              "      <td>Zimbabwe</td>\n",
              "      <td>9/5/20</td>\n",
              "      <td>206</td>\n",
              "      <td>6837</td>\n",
              "    </tr>\n",
              "    <tr>\n",
              "      <th>78524</th>\n",
              "      <td>Zimbabwe</td>\n",
              "      <td>9/6/20</td>\n",
              "      <td>206</td>\n",
              "      <td>6837</td>\n",
              "    </tr>\n",
              "    <tr>\n",
              "      <th>78525</th>\n",
              "      <td>Zimbabwe</td>\n",
              "      <td>9/7/20</td>\n",
              "      <td>210</td>\n",
              "      <td>7298</td>\n",
              "    </tr>\n",
              "    <tr>\n",
              "      <th>78526</th>\n",
              "      <td>Zimbabwe</td>\n",
              "      <td>9/8/20</td>\n",
              "      <td>218</td>\n",
              "      <td>7388</td>\n",
              "    </tr>\n",
              "    <tr>\n",
              "      <th>78527</th>\n",
              "      <td>Zimbabwe</td>\n",
              "      <td>9/9/20</td>\n",
              "      <td>222</td>\n",
              "      <td>7429</td>\n",
              "    </tr>\n",
              "  </tbody>\n",
              "</table>\n",
              "</div>"
            ],
            "text/plain": [
              "      Country/Region timestamp  death_cases  confirmed_cases\n",
              "78523       Zimbabwe    9/5/20          206             6837\n",
              "78524       Zimbabwe    9/6/20          206             6837\n",
              "78525       Zimbabwe    9/7/20          210             7298\n",
              "78526       Zimbabwe    9/8/20          218             7388\n",
              "78527       Zimbabwe    9/9/20          222             7429"
            ]
          },
          "metadata": {
            "tags": []
          },
          "execution_count": 34
        }
      ]
    },
    {
      "cell_type": "code",
      "metadata": {
        "id": "w5Yk9G9SPTB9"
      },
      "source": [
        "final_covid['timestamp'] = pd.to_datetime(final_covid.timestamp)\r\n",
        "final_stock['timestamp'] = pd.to_datetime(final_stock.timestamp)"
      ],
      "execution_count": 35,
      "outputs": []
    },
    {
      "cell_type": "code",
      "metadata": {
        "id": "rC-PED-QPfKU"
      },
      "source": [
        "final_data = final_stock.merge(final_covid, on = 'timestamp', how = 'left')"
      ],
      "execution_count": 37,
      "outputs": []
    },
    {
      "cell_type": "code",
      "metadata": {
        "id": "UbtZE_zuPhyS",
        "colab": {
          "base_uri": "https://localhost:8080/",
          "height": 191
        },
        "outputId": "0069de6f-b4be-424d-eaa8-f7924a104e41"
      },
      "source": [
        "final_data.head()"
      ],
      "execution_count": 38,
      "outputs": [
        {
          "output_type": "execute_result",
          "data": {
            "text/html": [
              "<div>\n",
              "<style scoped>\n",
              "    .dataframe tbody tr th:only-of-type {\n",
              "        vertical-align: middle;\n",
              "    }\n",
              "\n",
              "    .dataframe tbody tr th {\n",
              "        vertical-align: top;\n",
              "    }\n",
              "\n",
              "    .dataframe thead th {\n",
              "        text-align: right;\n",
              "    }\n",
              "</style>\n",
              "<table border=\"1\" class=\"dataframe\">\n",
              "  <thead>\n",
              "    <tr style=\"text-align: right;\">\n",
              "      <th></th>\n",
              "      <th>timestamp</th>\n",
              "      <th>open</th>\n",
              "      <th>high</th>\n",
              "      <th>low</th>\n",
              "      <th>close</th>\n",
              "      <th>volume</th>\n",
              "      <th>stock_name</th>\n",
              "      <th>Country/Region</th>\n",
              "      <th>death_cases</th>\n",
              "      <th>confirmed_cases</th>\n",
              "    </tr>\n",
              "  </thead>\n",
              "  <tbody>\n",
              "    <tr>\n",
              "      <th>0</th>\n",
              "      <td>2021-03-05</td>\n",
              "      <td>229.5165</td>\n",
              "      <td>233.27</td>\n",
              "      <td>226.46</td>\n",
              "      <td>231.6</td>\n",
              "      <td>41872770</td>\n",
              "      <td>MSFT</td>\n",
              "      <td>Afghanistan</td>\n",
              "      <td>2449</td>\n",
              "      <td>55827</td>\n",
              "    </tr>\n",
              "    <tr>\n",
              "      <th>1</th>\n",
              "      <td>2021-03-05</td>\n",
              "      <td>229.5165</td>\n",
              "      <td>233.27</td>\n",
              "      <td>226.46</td>\n",
              "      <td>231.6</td>\n",
              "      <td>41872770</td>\n",
              "      <td>MSFT</td>\n",
              "      <td>Albania</td>\n",
              "      <td>1897</td>\n",
              "      <td>111301</td>\n",
              "    </tr>\n",
              "    <tr>\n",
              "      <th>2</th>\n",
              "      <td>2021-03-05</td>\n",
              "      <td>229.5165</td>\n",
              "      <td>233.27</td>\n",
              "      <td>226.46</td>\n",
              "      <td>231.6</td>\n",
              "      <td>41872770</td>\n",
              "      <td>MSFT</td>\n",
              "      <td>Algeria</td>\n",
              "      <td>3007</td>\n",
              "      <td>113948</td>\n",
              "    </tr>\n",
              "    <tr>\n",
              "      <th>3</th>\n",
              "      <td>2021-03-05</td>\n",
              "      <td>229.5165</td>\n",
              "      <td>233.27</td>\n",
              "      <td>226.46</td>\n",
              "      <td>231.6</td>\n",
              "      <td>41872770</td>\n",
              "      <td>MSFT</td>\n",
              "      <td>Andorra</td>\n",
              "      <td>112</td>\n",
              "      <td>10998</td>\n",
              "    </tr>\n",
              "    <tr>\n",
              "      <th>4</th>\n",
              "      <td>2021-03-05</td>\n",
              "      <td>229.5165</td>\n",
              "      <td>233.27</td>\n",
              "      <td>226.46</td>\n",
              "      <td>231.6</td>\n",
              "      <td>41872770</td>\n",
              "      <td>MSFT</td>\n",
              "      <td>Angola</td>\n",
              "      <td>511</td>\n",
              "      <td>21026</td>\n",
              "    </tr>\n",
              "  </tbody>\n",
              "</table>\n",
              "</div>"
            ],
            "text/plain": [
              "   timestamp      open    high  ...  Country/Region  death_cases  confirmed_cases\n",
              "0 2021-03-05  229.5165  233.27  ...     Afghanistan         2449            55827\n",
              "1 2021-03-05  229.5165  233.27  ...         Albania         1897           111301\n",
              "2 2021-03-05  229.5165  233.27  ...         Algeria         3007           113948\n",
              "3 2021-03-05  229.5165  233.27  ...         Andorra          112            10998\n",
              "4 2021-03-05  229.5165  233.27  ...          Angola          511            21026\n",
              "\n",
              "[5 rows x 10 columns]"
            ]
          },
          "metadata": {
            "tags": []
          },
          "execution_count": 38
        }
      ]
    },
    {
      "cell_type": "code",
      "metadata": {
        "id": "fhhTojtfPqsM",
        "colab": {
          "base_uri": "https://localhost:8080/"
        },
        "outputId": "99401400-9dab-4065-c328-452003b09f78"
      },
      "source": [
        "final_data.shape"
      ],
      "execution_count": 39,
      "outputs": [
        {
          "output_type": "execute_result",
          "data": {
            "text/plain": [
              "(96000, 10)"
            ]
          },
          "metadata": {
            "tags": []
          },
          "execution_count": 39
        }
      ]
    },
    {
      "cell_type": "code",
      "metadata": {
        "id": "q6jGsL54Pvsd",
        "colab": {
          "base_uri": "https://localhost:8080/"
        },
        "outputId": "d4b565e8-7006-4cc3-d91a-32105b302a16"
      },
      "source": [
        "final_data.timestamp.min()"
      ],
      "execution_count": 40,
      "outputs": [
        {
          "output_type": "execute_result",
          "data": {
            "text/plain": [
              "Timestamp('2020-10-12 00:00:00')"
            ]
          },
          "metadata": {
            "tags": []
          },
          "execution_count": 40
        }
      ]
    },
    {
      "cell_type": "code",
      "metadata": {
        "id": "ytqriHf1Pyri",
        "colab": {
          "base_uri": "https://localhost:8080/"
        },
        "outputId": "4aeb5969-ab8d-4458-be73-35895fd229bb"
      },
      "source": [
        "final_data.timestamp.max()"
      ],
      "execution_count": 41,
      "outputs": [
        {
          "output_type": "execute_result",
          "data": {
            "text/plain": [
              "Timestamp('2021-03-05 00:00:00')"
            ]
          },
          "metadata": {
            "tags": []
          },
          "execution_count": 41
        }
      ]
    },
    {
      "cell_type": "code",
      "metadata": {
        "id": "0Asx_ai3P6Lr",
        "colab": {
          "base_uri": "https://localhost:8080/"
        },
        "outputId": "0a9a954b-5cea-4077-b04b-768dbf28dc71"
      },
      "source": [
        "final_data.isna().sum()"
      ],
      "execution_count": 42,
      "outputs": [
        {
          "output_type": "execute_result",
          "data": {
            "text/plain": [
              "timestamp          0\n",
              "open               0\n",
              "high               0\n",
              "low                0\n",
              "close              0\n",
              "volume             0\n",
              "stock_name         0\n",
              "Country/Region     0\n",
              "death_cases        0\n",
              "confirmed_cases    0\n",
              "dtype: int64"
            ]
          },
          "metadata": {
            "tags": []
          },
          "execution_count": 42
        }
      ]
    },
    {
      "cell_type": "code",
      "metadata": {
        "id": "QXw-6JjaQEm4"
      },
      "source": [
        "MSFT_final = final_data[final_data.stock_name == 'MSFT']"
      ],
      "execution_count": 43,
      "outputs": []
    },
    {
      "cell_type": "code",
      "metadata": {
        "id": "AAlLNw6GQIZq",
        "colab": {
          "base_uri": "https://localhost:8080/",
          "height": 191
        },
        "outputId": "f5ab605d-8ea4-4f30-b9d4-61b7dc37d5d5"
      },
      "source": [
        "MSFT_final.head()"
      ],
      "execution_count": 44,
      "outputs": [
        {
          "output_type": "execute_result",
          "data": {
            "text/html": [
              "<div>\n",
              "<style scoped>\n",
              "    .dataframe tbody tr th:only-of-type {\n",
              "        vertical-align: middle;\n",
              "    }\n",
              "\n",
              "    .dataframe tbody tr th {\n",
              "        vertical-align: top;\n",
              "    }\n",
              "\n",
              "    .dataframe thead th {\n",
              "        text-align: right;\n",
              "    }\n",
              "</style>\n",
              "<table border=\"1\" class=\"dataframe\">\n",
              "  <thead>\n",
              "    <tr style=\"text-align: right;\">\n",
              "      <th></th>\n",
              "      <th>timestamp</th>\n",
              "      <th>open</th>\n",
              "      <th>high</th>\n",
              "      <th>low</th>\n",
              "      <th>close</th>\n",
              "      <th>volume</th>\n",
              "      <th>stock_name</th>\n",
              "      <th>Country/Region</th>\n",
              "      <th>death_cases</th>\n",
              "      <th>confirmed_cases</th>\n",
              "    </tr>\n",
              "  </thead>\n",
              "  <tbody>\n",
              "    <tr>\n",
              "      <th>0</th>\n",
              "      <td>2021-03-05</td>\n",
              "      <td>229.5165</td>\n",
              "      <td>233.27</td>\n",
              "      <td>226.46</td>\n",
              "      <td>231.6</td>\n",
              "      <td>41872770</td>\n",
              "      <td>MSFT</td>\n",
              "      <td>Afghanistan</td>\n",
              "      <td>2449</td>\n",
              "      <td>55827</td>\n",
              "    </tr>\n",
              "    <tr>\n",
              "      <th>1</th>\n",
              "      <td>2021-03-05</td>\n",
              "      <td>229.5165</td>\n",
              "      <td>233.27</td>\n",
              "      <td>226.46</td>\n",
              "      <td>231.6</td>\n",
              "      <td>41872770</td>\n",
              "      <td>MSFT</td>\n",
              "      <td>Albania</td>\n",
              "      <td>1897</td>\n",
              "      <td>111301</td>\n",
              "    </tr>\n",
              "    <tr>\n",
              "      <th>2</th>\n",
              "      <td>2021-03-05</td>\n",
              "      <td>229.5165</td>\n",
              "      <td>233.27</td>\n",
              "      <td>226.46</td>\n",
              "      <td>231.6</td>\n",
              "      <td>41872770</td>\n",
              "      <td>MSFT</td>\n",
              "      <td>Algeria</td>\n",
              "      <td>3007</td>\n",
              "      <td>113948</td>\n",
              "    </tr>\n",
              "    <tr>\n",
              "      <th>3</th>\n",
              "      <td>2021-03-05</td>\n",
              "      <td>229.5165</td>\n",
              "      <td>233.27</td>\n",
              "      <td>226.46</td>\n",
              "      <td>231.6</td>\n",
              "      <td>41872770</td>\n",
              "      <td>MSFT</td>\n",
              "      <td>Andorra</td>\n",
              "      <td>112</td>\n",
              "      <td>10998</td>\n",
              "    </tr>\n",
              "    <tr>\n",
              "      <th>4</th>\n",
              "      <td>2021-03-05</td>\n",
              "      <td>229.5165</td>\n",
              "      <td>233.27</td>\n",
              "      <td>226.46</td>\n",
              "      <td>231.6</td>\n",
              "      <td>41872770</td>\n",
              "      <td>MSFT</td>\n",
              "      <td>Angola</td>\n",
              "      <td>511</td>\n",
              "      <td>21026</td>\n",
              "    </tr>\n",
              "  </tbody>\n",
              "</table>\n",
              "</div>"
            ],
            "text/plain": [
              "   timestamp      open    high  ...  Country/Region  death_cases  confirmed_cases\n",
              "0 2021-03-05  229.5165  233.27  ...     Afghanistan         2449            55827\n",
              "1 2021-03-05  229.5165  233.27  ...         Albania         1897           111301\n",
              "2 2021-03-05  229.5165  233.27  ...         Algeria         3007           113948\n",
              "3 2021-03-05  229.5165  233.27  ...         Andorra          112            10998\n",
              "4 2021-03-05  229.5165  233.27  ...          Angola          511            21026\n",
              "\n",
              "[5 rows x 10 columns]"
            ]
          },
          "metadata": {
            "tags": []
          },
          "execution_count": 44
        }
      ]
    },
    {
      "cell_type": "code",
      "metadata": {
        "id": "ukInWK-RTa9z"
      },
      "source": [
        "MSFT_final1 = pd.DataFrame()\r\n",
        "MSFT_final1['timestamp'] = MSFT_final[MSFT_final['Country/Region'] == 'US'].timestamp\r\n",
        "MSFT_final1['death_cases'] = (MSFT_final[MSFT_final['Country/Region'] == 'US'].death_cases - MSFT_final[MSFT_final['Country/Region'] == 'US'].death_cases.mean())/MSFT_final[MSFT_final['Country/Region'] == 'US'].death_cases.std()\r\n",
        "MSFT_final1['confirmed_cases'] = (MSFT_final[MSFT_final['Country/Region'] == 'US'].confirmed_cases - MSFT_final[MSFT_final['Country/Region'] == 'US'].confirmed_cases.mean())/MSFT_final[MSFT_final['Country/Region'] == 'US'].confirmed_cases.std()\r\n",
        "MSFT_final1['high'] = (MSFT_final[MSFT_final['Country/Region'] == 'US'].high - MSFT_final[MSFT_final['Country/Region'] == 'US'].high.mean())/MSFT_final[MSFT_final['Country/Region'] == 'US'].high.std()\r\n",
        "MSFT_final1['low'] = (MSFT_final[MSFT_final['Country/Region'] == 'US'].low - MSFT_final[MSFT_final['Country/Region'] == 'US'].low.mean())/MSFT_final[MSFT_final['Country/Region'] == 'US'].low.std()\r\n",
        "MSFT_final1['open'] = (MSFT_final[MSFT_final['Country/Region'] == 'US'].open - MSFT_final[MSFT_final['Country/Region'] == 'US'].open.mean())/MSFT_final[MSFT_final['Country/Region'] == 'US'].open.std()\r\n",
        "MSFT_final1['close'] = (MSFT_final[MSFT_final['Country/Region'] == 'US'].close - MSFT_final[MSFT_final['Country/Region'] == 'US'].close.mean())/MSFT_final[MSFT_final['Country/Region'] == 'US'].close.std()"
      ],
      "execution_count": 45,
      "outputs": []
    },
    {
      "cell_type": "code",
      "metadata": {
        "id": "HaqhQ5T6UGgK",
        "outputId": "1e4ca091-3192-49f7-b55d-228019ec06be",
        "colab": {
          "base_uri": "https://localhost:8080/",
          "height": 191
        }
      },
      "source": [
        "MSFT_final1.head()"
      ],
      "execution_count": 46,
      "outputs": [
        {
          "output_type": "execute_result",
          "data": {
            "text/html": [
              "<div>\n",
              "<style scoped>\n",
              "    .dataframe tbody tr th:only-of-type {\n",
              "        vertical-align: middle;\n",
              "    }\n",
              "\n",
              "    .dataframe tbody tr th {\n",
              "        vertical-align: top;\n",
              "    }\n",
              "\n",
              "    .dataframe thead th {\n",
              "        text-align: right;\n",
              "    }\n",
              "</style>\n",
              "<table border=\"1\" class=\"dataframe\">\n",
              "  <thead>\n",
              "    <tr style=\"text-align: right;\">\n",
              "      <th></th>\n",
              "      <th>timestamp</th>\n",
              "      <th>death_cases</th>\n",
              "      <th>confirmed_cases</th>\n",
              "      <th>high</th>\n",
              "      <th>low</th>\n",
              "      <th>open</th>\n",
              "      <th>close</th>\n",
              "    </tr>\n",
              "  </thead>\n",
              "  <tbody>\n",
              "    <tr>\n",
              "      <th>178</th>\n",
              "      <td>2021-03-05</td>\n",
              "      <td>1.730964</td>\n",
              "      <td>1.425688</td>\n",
              "      <td>0.785081</td>\n",
              "      <td>0.592882</td>\n",
              "      <td>0.655361</td>\n",
              "      <td>0.838259</td>\n",
              "    </tr>\n",
              "    <tr>\n",
              "      <th>370</th>\n",
              "      <td>2021-03-04</td>\n",
              "      <td>1.706390</td>\n",
              "      <td>1.416559</td>\n",
              "      <td>0.714977</td>\n",
              "      <td>0.392091</td>\n",
              "      <td>0.405035</td>\n",
              "      <td>0.401227</td>\n",
              "    </tr>\n",
              "    <tr>\n",
              "      <th>562</th>\n",
              "      <td>2021-03-03</td>\n",
              "      <td>1.687833</td>\n",
              "      <td>1.407462</td>\n",
              "      <td>0.812934</td>\n",
              "      <td>0.665897</td>\n",
              "      <td>0.892818</td>\n",
              "      <td>0.475711</td>\n",
              "    </tr>\n",
              "    <tr>\n",
              "      <th>754</th>\n",
              "      <td>2021-03-02</td>\n",
              "      <td>1.663766</td>\n",
              "      <td>1.398535</td>\n",
              "      <td>1.147286</td>\n",
              "      <td>1.230851</td>\n",
              "      <td>1.329752</td>\n",
              "      <td>1.041968</td>\n",
              "    </tr>\n",
              "    <tr>\n",
              "      <th>946</th>\n",
              "      <td>2021-03-01</td>\n",
              "      <td>1.645004</td>\n",
              "      <td>1.390847</td>\n",
              "      <td>1.162565</td>\n",
              "      <td>1.203471</td>\n",
              "      <td>1.229856</td>\n",
              "      <td>1.317470</td>\n",
              "    </tr>\n",
              "  </tbody>\n",
              "</table>\n",
              "</div>"
            ],
            "text/plain": [
              "     timestamp  death_cases  confirmed_cases  ...       low      open     close\n",
              "178 2021-03-05     1.730964         1.425688  ...  0.592882  0.655361  0.838259\n",
              "370 2021-03-04     1.706390         1.416559  ...  0.392091  0.405035  0.401227\n",
              "562 2021-03-03     1.687833         1.407462  ...  0.665897  0.892818  0.475711\n",
              "754 2021-03-02     1.663766         1.398535  ...  1.230851  1.329752  1.041968\n",
              "946 2021-03-01     1.645004         1.390847  ...  1.203471  1.229856  1.317470\n",
              "\n",
              "[5 rows x 7 columns]"
            ]
          },
          "metadata": {
            "tags": []
          },
          "execution_count": 46
        }
      ]
    },
    {
      "cell_type": "code",
      "metadata": {
        "id": "Eb6_153hUGcT",
        "outputId": "6ff9f1ce-331a-404f-bf27-05bd0a40edf3",
        "colab": {
          "base_uri": "https://localhost:8080/",
          "height": 281
        }
      },
      "source": [
        "plt.plot(MSFT_final1.timestamp, MSFT_final1.death_cases, label = 'death_cases')\r\n",
        "plt.plot(MSFT_final1.timestamp, MSFT_final1.confirmed_cases, label = 'confirmed_cases')\r\n",
        "plt.plot(MSFT_final1.timestamp, MSFT_final1.high, label = 'high')\r\n",
        "plt.plot(MSFT_final1.timestamp, MSFT_final1.low, label = 'low')\r\n",
        "plt.plot(MSFT_final1.timestamp, MSFT_final1.open, label = 'open')\r\n",
        "plt.plot(MSFT_final1.timestamp, MSFT_final1.close, label = 'close')\r\n",
        "plt.legend()\r\n",
        "plt.title('Stock Analysis Microsoft USA')\r\n",
        "plt.show()"
      ],
      "execution_count": 47,
      "outputs": [
        {
          "output_type": "display_data",
          "data": {
            "image/png": "[encoded data removed]",
            "text/plain": [
              "<Figure size 432x288 with 1 Axes>"
            ]
          },
          "metadata": {
            "tags": [],
            "needs_background": "light"
          }
        }
      ]
    },
    {
      "cell_type": "code",
      "metadata": {
        "id": "jSFR3ygDUcKo"
      },
      "source": [
        "BB_final = final_data[final_data.stock_name == 'BB']\r\n",
        "BB_final1 = pd.DataFrame()\r\n",
        "BB_final1['timestamp'] = BB_final[BB_final['Country/Region'] == 'Canada'].timestamp\r\n",
        "BB_final1['death_cases'] = (BB_final[BB_final['Country/Region'] == 'Canada'].death_cases - BB_final[BB_final['Country/Region'] == 'Canada'].death_cases.mean())/BB_final[BB_final['Country/Region'] == 'Canada'].death_cases.std()\r\n",
        "BB_final1['confirmed_cases'] = (BB_final[BB_final['Country/Region'] == 'Canada'].confirmed_cases - BB_final[BB_final['Country/Region'] == 'Canada'].confirmed_cases.mean())/BB_final[BB_final['Country/Region'] == 'Canada'].confirmed_cases.std()\r\n",
        "BB_final1['high'] = (BB_final[BB_final['Country/Region'] == 'Canada'].high - BB_final[BB_final['Country/Region'] == 'Canada'].high.mean())/BB_final[BB_final['Country/Region'] == 'Canada'].high.std()\r\n",
        "BB_final1['low'] = (BB_final[BB_final['Country/Region'] == 'Canada'].low - BB_final[BB_final['Country/Region'] == 'Canada'].low.mean())/BB_final[BB_final['Country/Region'] == 'Canada'].low.std()\r\n",
        "BB_final1['open'] = (BB_final[BB_final['Country/Region'] == 'Canada'].open - BB_final[BB_final['Country/Region'] == 'Canada'].open.mean())/BB_final[BB_final['Country/Region'] == 'Canada'].open.std()\r\n",
        "BB_final1['close'] = (BB_final[BB_final['Country/Region'] == 'Canada'].close - BB_final[BB_final['Country/Region'] == 'Canada'].close.mean())/BB_final[BB_final['Country/Region'] == 'Canada'].close.std()"
      ],
      "execution_count": 48,
      "outputs": []
    }
  ]
}