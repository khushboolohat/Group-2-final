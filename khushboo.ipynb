{
  "nbformat": 4,
  "nbformat_minor": 0,
  "metadata": {
    "colab": {
      "name": "khushboo.ipynb",
      "provenance": [],
      "include_colab_link": true
    },
    "kernelspec": {
      "name": "python3",
      "display_name": "Python 3"
    }
  },
  "cells": [
    {
      "cell_type": "markdown",
      "metadata": {
        "id": "view-in-github",
        "colab_type": "text"
      },
      "source": [
        "<a href=\"https://colab.research.google.com/github/khushboolohat/Group-2-final/blob/Akshita/khushboo.ipynb\" target=\"_parent\"><img src=\"https://colab.research.google.com/assets/colab-badge.svg\" alt=\"Open In Colab\"/></a>"
      ]
    },
    {
      "cell_type": "code",
      "metadata": {
        "id": "T9OH59Z27yYe"
      },
      "source": [
        "#new file"
      ],
      "execution_count": null,
      "outputs": []
    },
    {
      "cell_type": "code",
      "metadata": {
        "colab": {
          "base_uri": "https://localhost:8080/"
        },
        "id": "ykvcdqJJ-XAa",
        "outputId": "55f87a36-a07f-4c52-997f-69f8a57138ee"
      },
      "source": [
        "import pandas as pd\r\n",
        "import numpy as np\r\n",
        "from matplotlib import pyplot as plt\r\n",
        "import seaborn as sns\r\n",
        "! pip install alpha-vantage\r\n",
        "from alpha_vantage.timeseries import TimeSeries"
      ],
      "execution_count": 2,
      "outputs": [
        {
          "output_type": "stream",
          "text": [
            "Collecting alpha-vantage\n",
            "  Downloading https://files.pythonhosted.org/packages/ba/b4/d95f9e0eccea6732bab5a079772d453a4f0b68a9f63740d9cf320f92beaa/alpha_vantage-2.3.1-py3-none-any.whl\n",
            "Collecting aiohttp\n",
            "\u001b[?25l  Downloading https://files.pythonhosted.org/packages/5b/a6/d36302eba284f4f427dc288f6b3ecd7f89d739cfca206b80311d3158f6d9/aiohttp-3.7.4-cp37-cp37m-manylinux2014_x86_64.whl (1.3MB)\n",
            "\u001b[K     |████████████████████████████████| 1.3MB 6.6MB/s \n",
            "\u001b[?25hRequirement already satisfied: requests in /usr/local/lib/python3.7/dist-packages (from alpha-vantage) (2.23.0)\n",
            "Requirement already satisfied: chardet<4.0,>=2.0 in /usr/local/lib/python3.7/dist-packages (from aiohttp->alpha-vantage) (3.0.4)\n",
            "Collecting yarl<2.0,>=1.0\n",
            "\u001b[?25l  Downloading https://files.pythonhosted.org/packages/f1/62/046834c5fc998c88ab2ef722f5d42122230a632212c8afa76418324f53ff/yarl-1.6.3-cp37-cp37m-manylinux2014_x86_64.whl (294kB)\n",
            "\u001b[K     |████████████████████████████████| 296kB 22.8MB/s \n",
            "\u001b[?25hCollecting multidict<7.0,>=4.5\n",
            "\u001b[?25l  Downloading https://files.pythonhosted.org/packages/7c/a6/4123b8165acbe773d1a8dc8e3f0d1edea16d29f7de018eda769abb56bd30/multidict-5.1.0-cp37-cp37m-manylinux2014_x86_64.whl (142kB)\n",
            "\u001b[K     |████████████████████████████████| 143kB 21.0MB/s \n",
            "\u001b[?25hCollecting async-timeout<4.0,>=3.0\n",
            "  Downloading https://files.pythonhosted.org/packages/e1/1e/5a4441be21b0726c4464f3f23c8b19628372f606755a9d2e46c187e65ec4/async_timeout-3.0.1-py3-none-any.whl\n",
            "Requirement already satisfied: attrs>=17.3.0 in /usr/local/lib/python3.7/dist-packages (from aiohttp->alpha-vantage) (20.3.0)\n",
            "Requirement already satisfied: typing-extensions>=3.6.5 in /usr/local/lib/python3.7/dist-packages (from aiohttp->alpha-vantage) (3.7.4.3)\n",
            "Requirement already satisfied: certifi>=2017.4.17 in /usr/local/lib/python3.7/dist-packages (from requests->alpha-vantage) (2020.12.5)\n",
            "Requirement already satisfied: urllib3!=1.25.0,!=1.25.1,<1.26,>=1.21.1 in /usr/local/lib/python3.7/dist-packages (from requests->alpha-vantage) (1.24.3)\n",
            "Requirement already satisfied: idna<3,>=2.5 in /usr/local/lib/python3.7/dist-packages (from requests->alpha-vantage) (2.10)\n",
            "Installing collected packages: multidict, yarl, async-timeout, aiohttp, alpha-vantage\n",
            "Successfully installed aiohttp-3.7.4 alpha-vantage-2.3.1 async-timeout-3.0.1 multidict-5.1.0 yarl-1.6.3\n"
          ],
          "name": "stdout"
        }
      ]
    },
    {
      "cell_type": "code",
      "metadata": {
        "id": "BYri07sn-mc5"
      },
      "source": [
        "demo = 'GF6ZHIZTJZE9APJY.' #YOUR API KEY HERE"
      ],
      "execution_count": 3,
      "outputs": []
    },
    {
      "cell_type": "code",
      "metadata": {
        "id": "MrPzElKl-5dL"
      },
      "source": [
        "url_global_deaths = r\"https://raw.githubusercontent.com/CSSEGISandData/COVID-19/master/csse_covid_19_data/csse_covid_19_time_series/time_series_covid19_deaths_global.csv\"\r\n",
        "url_global_confirmed = r\"https://raw.githubusercontent.com/CSSEGISandData/COVID-19/master/csse_covid_19_data/csse_covid_19_time_series/time_series_covid19_confirmed_global.csv\"\r\n",
        "url_retail_stock = r'https://www.alphavantage.co/query?function=TIME_SERIES_DAILY&symbol=NYSE:SPG&apikey=' + demo + '&datatype=csv'\r\n",
        "url_usa_stock = r'https://www.alphavantage.co/query?function=TIME_SERIES_DAILY&symbol=MSFT&apikey=' + demo + '&datatype=csv'\r\n",
        "url_canada_stock = r'https://www.alphavantage.co/query?function=TIME_SERIES_DAILY&symbol=TSE:BB&apikey=' + demo + '&datatype=csv'\r\n",
        "url_travel_stock = r'https://www.alphavantage.co/query?function=TIME_SERIES_DAILY&symbol=EXPE&apikey=' + demo + '&datatype=csv'\r\n",
        "url_material_stock = r'https://www.alphavantage.co/query?function=TIME_SERIES_DAILY&symbol=NYSE:GOLD&apikey=' + demo + '&datatype=csv'"
      ],
      "execution_count": 4,
      "outputs": []
    },
    {
      "cell_type": "code",
      "metadata": {
        "id": "WOLy9MxCC78v"
      },
      "source": [
        "deaths_df = pd.read_csv(url_global_deaths)\r\n",
        "confirm_df = pd.read_csv(url_global_confirmed)\r\n",
        "us_stock = pd.read_csv(url_usa_stock)\r\n",
        "ca_stock = pd.read_csv(url_canada_stock)\r\n",
        "retail_stock = pd.read_csv(url_retail_stock)\r\n",
        "travel_stock = pd.read_csv(url_travel_stock)\r\n",
        "material_stock = pd.read_csv(url_material_stock)"
      ],
      "execution_count": 5,
      "outputs": []
    },
    {
      "cell_type": "code",
      "metadata": {
        "colab": {
          "base_uri": "https://localhost:8080/"
        },
        "id": "WerrqH_iDPPh",
        "outputId": "aa316207-7b6b-4b89-8775-cc52691afab5"
      },
      "source": [
        "print(deaths_df.shape)\r\n",
        "print(confirm_df.shape)\r\n",
        "print(us_stock.shape)\r\n",
        "print(ca_stock.shape)\r\n",
        "print(retail_stock.shape)\r\n",
        "print(travel_stock.shape)\r\n",
        "print(material_stock.shape)"
      ],
      "execution_count": 6,
      "outputs": [
        {
          "output_type": "stream",
          "text": [
            "(274, 413)\n",
            "(274, 413)\n",
            "(100, 6)\n",
            "(100, 6)\n",
            "(100, 6)\n",
            "(100, 6)\n",
            "(100, 6)\n"
          ],
          "name": "stdout"
        }
      ]
    },
    {
      "cell_type": "code",
      "metadata": {
        "id": "ry5WdUXNIvGk"
      },
      "source": [
        "deaths_df_long = pd.melt(deaths_df, id_vars=['Province/State', 'Country/Region', 'Lat', 'Long'],\r\n",
        "                        value_vars= deaths_df.columns[4:], var_name='timestamp', value_name='death_cases')\r\n",
        "\r\n",
        "confirm_df_long = pd.melt(confirm_df, id_vars=['Province/State', 'Country/Region', 'Lat', 'Long'],\r\n",
        "                        value_vars= confirm_df.columns[4:], var_name='timestamp', value_name='confirmed_cases')"
      ],
      "execution_count": 7,
      "outputs": []
    },
    {
      "cell_type": "code",
      "metadata": {
        "id": "4X4NSYGdMiYF",
        "outputId": "a87a483a-fc8d-4fb3-bed2-eb614b1554b5",
        "colab": {
          "base_uri": "https://localhost:8080/",
          "height": 204
        }
      },
      "source": [
        "confirm_df_long.head()"
      ],
      "execution_count": 8,
      "outputs": [
        {
          "output_type": "execute_result",
          "data": {
            "text/html": [
              "<div>\n",
              "<style scoped>\n",
              "    .dataframe tbody tr th:only-of-type {\n",
              "        vertical-align: middle;\n",
              "    }\n",
              "\n",
              "    .dataframe tbody tr th {\n",
              "        vertical-align: top;\n",
              "    }\n",
              "\n",
              "    .dataframe thead th {\n",
              "        text-align: right;\n",
              "    }\n",
              "</style>\n",
              "<table border=\"1\" class=\"dataframe\">\n",
              "  <thead>\n",
              "    <tr style=\"text-align: right;\">\n",
              "      <th></th>\n",
              "      <th>Province/State</th>\n",
              "      <th>Country/Region</th>\n",
              "      <th>Lat</th>\n",
              "      <th>Long</th>\n",
              "      <th>timestamp</th>\n",
              "      <th>confirmed_cases</th>\n",
              "    </tr>\n",
              "  </thead>\n",
              "  <tbody>\n",
              "    <tr>\n",
              "      <th>0</th>\n",
              "      <td>NaN</td>\n",
              "      <td>Afghanistan</td>\n",
              "      <td>33.93911</td>\n",
              "      <td>67.709953</td>\n",
              "      <td>1/22/20</td>\n",
              "      <td>0</td>\n",
              "    </tr>\n",
              "    <tr>\n",
              "      <th>1</th>\n",
              "      <td>NaN</td>\n",
              "      <td>Albania</td>\n",
              "      <td>41.15330</td>\n",
              "      <td>20.168300</td>\n",
              "      <td>1/22/20</td>\n",
              "      <td>0</td>\n",
              "    </tr>\n",
              "    <tr>\n",
              "      <th>2</th>\n",
              "      <td>NaN</td>\n",
              "      <td>Algeria</td>\n",
              "      <td>28.03390</td>\n",
              "      <td>1.659600</td>\n",
              "      <td>1/22/20</td>\n",
              "      <td>0</td>\n",
              "    </tr>\n",
              "    <tr>\n",
              "      <th>3</th>\n",
              "      <td>NaN</td>\n",
              "      <td>Andorra</td>\n",
              "      <td>42.50630</td>\n",
              "      <td>1.521800</td>\n",
              "      <td>1/22/20</td>\n",
              "      <td>0</td>\n",
              "    </tr>\n",
              "    <tr>\n",
              "      <th>4</th>\n",
              "      <td>NaN</td>\n",
              "      <td>Angola</td>\n",
              "      <td>-11.20270</td>\n",
              "      <td>17.873900</td>\n",
              "      <td>1/22/20</td>\n",
              "      <td>0</td>\n",
              "    </tr>\n",
              "  </tbody>\n",
              "</table>\n",
              "</div>"
            ],
            "text/plain": [
              "  Province/State Country/Region       Lat       Long timestamp  confirmed_cases\n",
              "0            NaN    Afghanistan  33.93911  67.709953   1/22/20                0\n",
              "1            NaN        Albania  41.15330  20.168300   1/22/20                0\n",
              "2            NaN        Algeria  28.03390   1.659600   1/22/20                0\n",
              "3            NaN        Andorra  42.50630   1.521800   1/22/20                0\n",
              "4            NaN         Angola -11.20270  17.873900   1/22/20                0"
            ]
          },
          "metadata": {
            "tags": []
          },
          "execution_count": 8
        }
      ]
    }
  ]
}