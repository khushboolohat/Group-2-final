{
  "nbformat": 4,
  "nbformat_minor": 0,
  "metadata": {
    "colab": {
      "name": "khushboo.ipynb",
      "provenance": [],
      "include_colab_link": true
    },
    "kernelspec": {
      "name": "python3",
      "display_name": "Python 3"
    }
  },
  "cells": [
    {
      "cell_type": "markdown",
      "metadata": {
        "id": "view-in-github",
        "colab_type": "text"
      },
      "source": [
        "<a href=\"https://colab.research.google.com/github/khushboolohat/Group-2-final/blob/Nirali/khushboo.ipynb\" target=\"_parent\"><img src=\"https://colab.research.google.com/assets/colab-badge.svg\" alt=\"Open In Colab\"/></a>"
      ]
    },
    {
      "cell_type": "code",
      "metadata": {
        "id": "T9OH59Z27yYe"
      },
      "source": [
        "#new file"
      ],
      "execution_count": null,
      "outputs": []
    },
    {
      "cell_type": "code",
      "metadata": {
        "colab": {
          "base_uri": "https://localhost:8080/"
        },
        "id": "ykvcdqJJ-XAa",
        "outputId": "eec5a075-5634-4c33-f041-f3bd2418691c"
      },
      "source": [
        "import pandas as pd\r\n",
        "import numpy as np\r\n",
        "from matplotlib import pyplot as plt\r\n",
        "import seaborn as sns\r\n",
        "! pip install alpha-vantage\r\n",
        "from alpha_vantage.timeseries import TimeSeries"
      ],
      "execution_count": 1,
      "outputs": [
        {
          "output_type": "stream",
          "text": [
            "Collecting alpha-vantage\n",
            "  Downloading https://files.pythonhosted.org/packages/ba/b4/d95f9e0eccea6732bab5a079772d453a4f0b68a9f63740d9cf320f92beaa/alpha_vantage-2.3.1-py3-none-any.whl\n",
            "Collecting aiohttp\n",
            "\u001b[?25l  Downloading https://files.pythonhosted.org/packages/88/c0/5890b4c8b04a79b7360e8fe4490feb0bb3ab179743f199f0e6220cebd568/aiohttp-3.7.4.post0-cp37-cp37m-manylinux2014_x86_64.whl (1.3MB)\n",
            "\u001b[K     |████████████████████████████████| 1.3MB 6.4MB/s \n",
            "\u001b[?25hRequirement already satisfied: requests in /usr/local/lib/python3.7/dist-packages (from alpha-vantage) (2.23.0)\n",
            "Requirement already satisfied: attrs>=17.3.0 in /usr/local/lib/python3.7/dist-packages (from aiohttp->alpha-vantage) (20.3.0)\n",
            "Collecting multidict<7.0,>=4.5\n",
            "\u001b[?25l  Downloading https://files.pythonhosted.org/packages/7c/a6/4123b8165acbe773d1a8dc8e3f0d1edea16d29f7de018eda769abb56bd30/multidict-5.1.0-cp37-cp37m-manylinux2014_x86_64.whl (142kB)\n",
            "\u001b[K     |████████████████████████████████| 143kB 20.0MB/s \n",
            "\u001b[?25hCollecting async-timeout<4.0,>=3.0\n",
            "  Downloading https://files.pythonhosted.org/packages/e1/1e/5a4441be21b0726c4464f3f23c8b19628372f606755a9d2e46c187e65ec4/async_timeout-3.0.1-py3-none-any.whl\n",
            "Requirement already satisfied: chardet<5.0,>=2.0 in /usr/local/lib/python3.7/dist-packages (from aiohttp->alpha-vantage) (3.0.4)\n",
            "Requirement already satisfied: typing-extensions>=3.6.5 in /usr/local/lib/python3.7/dist-packages (from aiohttp->alpha-vantage) (3.7.4.3)\n",
            "Collecting yarl<2.0,>=1.0\n",
            "\u001b[?25l  Downloading https://files.pythonhosted.org/packages/f1/62/046834c5fc998c88ab2ef722f5d42122230a632212c8afa76418324f53ff/yarl-1.6.3-cp37-cp37m-manylinux2014_x86_64.whl (294kB)\n",
            "\u001b[K     |████████████████████████████████| 296kB 16.2MB/s \n",
            "\u001b[?25hRequirement already satisfied: idna<3,>=2.5 in /usr/local/lib/python3.7/dist-packages (from requests->alpha-vantage) (2.10)\n",
            "Requirement already satisfied: certifi>=2017.4.17 in /usr/local/lib/python3.7/dist-packages (from requests->alpha-vantage) (2020.12.5)\n",
            "Requirement already satisfied: urllib3!=1.25.0,!=1.25.1,<1.26,>=1.21.1 in /usr/local/lib/python3.7/dist-packages (from requests->alpha-vantage) (1.24.3)\n",
            "Installing collected packages: multidict, async-timeout, yarl, aiohttp, alpha-vantage\n",
            "Successfully installed aiohttp-3.7.4.post0 alpha-vantage-2.3.1 async-timeout-3.0.1 multidict-5.1.0 yarl-1.6.3\n"
          ],
          "name": "stdout"
        }
      ]
    },
    {
      "cell_type": "code",
      "metadata": {
        "id": "BYri07sn-mc5"
      },
      "source": [
        "demo = 'GF6ZHIZTJZE9APJY.' #YOUR API KEY HERE"
      ],
      "execution_count": 2,
      "outputs": []
    },
    {
      "cell_type": "code",
      "metadata": {
        "id": "MrPzElKl-5dL"
      },
      "source": [
        "url_global_deaths = r\"https://raw.githubusercontent.com/CSSEGISandData/COVID-19/master/csse_covid_19_data/csse_covid_19_time_series/time_series_covid19_deaths_global.csv\"\r\n",
        "url_global_confirmed = r\"https://raw.githubusercontent.com/CSSEGISandData/COVID-19/master/csse_covid_19_data/csse_covid_19_time_series/time_series_covid19_confirmed_global.csv\"\r\n",
        "url_retail_stock = r'https://www.alphavantage.co/query?function=TIME_SERIES_DAILY&symbol=NYSE:SPG&apikey=' + demo + '&datatype=csv'\r\n",
        "url_usa_stock = r'https://www.alphavantage.co/query?function=TIME_SERIES_DAILY&symbol=MSFT&apikey=' + demo + '&datatype=csv'\r\n",
        "url_canada_stock = r'https://www.alphavantage.co/query?function=TIME_SERIES_DAILY&symbol=TSE:BB&apikey=' + demo + '&datatype=csv'\r\n",
        "url_travel_stock = r'https://www.alphavantage.co/query?function=TIME_SERIES_DAILY&symbol=EXPE&apikey=' + demo + '&datatype=csv'\r\n",
        "url_material_stock = r'https://www.alphavantage.co/query?function=TIME_SERIES_DAILY&symbol=NYSE:GOLD&apikey=' + demo + '&datatype=csv'"
      ],
      "execution_count": 3,
      "outputs": []
    },
    {
      "cell_type": "code",
      "metadata": {
        "id": "WOLy9MxCC78v"
      },
      "source": [
        "deaths_df = pd.read_csv(url_global_deaths)\r\n",
        "confirm_df = pd.read_csv(url_global_confirmed)\r\n",
        "us_stock = pd.read_csv(url_usa_stock)\r\n",
        "ca_stock = pd.read_csv(url_canada_stock)\r\n",
        "retail_stock = pd.read_csv(url_retail_stock)\r\n",
        "travel_stock = pd.read_csv(url_travel_stock)\r\n",
        "material_stock = pd.read_csv(url_material_stock)"
      ],
      "execution_count": 4,
      "outputs": []
    },
    {
      "cell_type": "code",
      "metadata": {
        "colab": {
          "base_uri": "https://localhost:8080/"
        },
        "id": "WerrqH_iDPPh",
        "outputId": "0b13d1fd-364b-452e-a27d-cf3a11d053de"
      },
      "source": [
        "print(deaths_df.shape)\r\n",
        "print(confirm_df.shape)\r\n",
        "print(us_stock.shape)\r\n",
        "print(ca_stock.shape)\r\n",
        "print(retail_stock.shape)\r\n",
        "print(travel_stock.shape)\r\n",
        "print(material_stock.shape)"
      ],
      "execution_count": 5,
      "outputs": [
        {
          "output_type": "stream",
          "text": [
            "(274, 414)\n",
            "(274, 414)\n",
            "(100, 6)\n",
            "(100, 6)\n",
            "(100, 6)\n",
            "(100, 6)\n",
            "(100, 6)\n"
          ],
          "name": "stdout"
        }
      ]
    },
    {
      "cell_type": "code",
      "metadata": {
        "id": "ry5WdUXNIvGk"
      },
      "source": [
        "deaths_df_long = pd.melt(deaths_df, id_vars=['Province/State', 'Country/Region', 'Lat', 'Long'],\r\n",
        "                        value_vars= deaths_df.columns[4:], var_name='timestamp', value_name='death_cases')\r\n",
        "\r\n",
        "confirm_df_long = pd.melt(confirm_df, id_vars=['Province/State', 'Country/Region', 'Lat', 'Long'],\r\n",
        "                        value_vars= confirm_df.columns[4:], var_name='timestamp', value_name='confirmed_cases')"
      ],
      "execution_count": 6,
      "outputs": []
    },
    {
      "cell_type": "code",
      "metadata": {
        "id": "bkjQl1qKOgWR",
        "colab": {
          "base_uri": "https://localhost:8080/",
          "height": 204
        },
        "outputId": "f2783fb4-677f-41bb-e1a4-086c72539275"
      },
      "source": [
        "deaths_df_long.head()"
      ],
      "execution_count": 7,
      "outputs": [
        {
          "output_type": "execute_result",
          "data": {
            "text/html": [
              "<div>\n",
              "<style scoped>\n",
              "    .dataframe tbody tr th:only-of-type {\n",
              "        vertical-align: middle;\n",
              "    }\n",
              "\n",
              "    .dataframe tbody tr th {\n",
              "        vertical-align: top;\n",
              "    }\n",
              "\n",
              "    .dataframe thead th {\n",
              "        text-align: right;\n",
              "    }\n",
              "</style>\n",
              "<table border=\"1\" class=\"dataframe\">\n",
              "  <thead>\n",
              "    <tr style=\"text-align: right;\">\n",
              "      <th></th>\n",
              "      <th>Province/State</th>\n",
              "      <th>Country/Region</th>\n",
              "      <th>Lat</th>\n",
              "      <th>Long</th>\n",
              "      <th>timestamp</th>\n",
              "      <th>death_cases</th>\n",
              "    </tr>\n",
              "  </thead>\n",
              "  <tbody>\n",
              "    <tr>\n",
              "      <th>0</th>\n",
              "      <td>NaN</td>\n",
              "      <td>Afghanistan</td>\n",
              "      <td>33.93911</td>\n",
              "      <td>67.709953</td>\n",
              "      <td>1/22/20</td>\n",
              "      <td>0</td>\n",
              "    </tr>\n",
              "    <tr>\n",
              "      <th>1</th>\n",
              "      <td>NaN</td>\n",
              "      <td>Albania</td>\n",
              "      <td>41.15330</td>\n",
              "      <td>20.168300</td>\n",
              "      <td>1/22/20</td>\n",
              "      <td>0</td>\n",
              "    </tr>\n",
              "    <tr>\n",
              "      <th>2</th>\n",
              "      <td>NaN</td>\n",
              "      <td>Algeria</td>\n",
              "      <td>28.03390</td>\n",
              "      <td>1.659600</td>\n",
              "      <td>1/22/20</td>\n",
              "      <td>0</td>\n",
              "    </tr>\n",
              "    <tr>\n",
              "      <th>3</th>\n",
              "      <td>NaN</td>\n",
              "      <td>Andorra</td>\n",
              "      <td>42.50630</td>\n",
              "      <td>1.521800</td>\n",
              "      <td>1/22/20</td>\n",
              "      <td>0</td>\n",
              "    </tr>\n",
              "    <tr>\n",
              "      <th>4</th>\n",
              "      <td>NaN</td>\n",
              "      <td>Angola</td>\n",
              "      <td>-11.20270</td>\n",
              "      <td>17.873900</td>\n",
              "      <td>1/22/20</td>\n",
              "      <td>0</td>\n",
              "    </tr>\n",
              "  </tbody>\n",
              "</table>\n",
              "</div>"
            ],
            "text/plain": [
              "  Province/State Country/Region       Lat       Long timestamp  death_cases\n",
              "0            NaN    Afghanistan  33.93911  67.709953   1/22/20            0\n",
              "1            NaN        Albania  41.15330  20.168300   1/22/20            0\n",
              "2            NaN        Algeria  28.03390   1.659600   1/22/20            0\n",
              "3            NaN        Andorra  42.50630   1.521800   1/22/20            0\n",
              "4            NaN         Angola -11.20270  17.873900   1/22/20            0"
            ]
          },
          "metadata": {
            "tags": []
          },
          "execution_count": 7
        }
      ]
    },
    {
      "cell_type": "code",
      "metadata": {
        "colab": {
          "base_uri": "https://localhost:8080/",
          "height": 204
        },
        "id": "4X4NSYGdMiYF",
        "outputId": "9eca3da6-b799-4692-b75a-06237e41096e"
      },
      "source": [
        "confirm_df_long.head()"
      ],
      "execution_count": 8,
      "outputs": [
        {
          "output_type": "execute_result",
          "data": {
            "text/html": [
              "<div>\n",
              "<style scoped>\n",
              "    .dataframe tbody tr th:only-of-type {\n",
              "        vertical-align: middle;\n",
              "    }\n",
              "\n",
              "    .dataframe tbody tr th {\n",
              "        vertical-align: top;\n",
              "    }\n",
              "\n",
              "    .dataframe thead th {\n",
              "        text-align: right;\n",
              "    }\n",
              "</style>\n",
              "<table border=\"1\" class=\"dataframe\">\n",
              "  <thead>\n",
              "    <tr style=\"text-align: right;\">\n",
              "      <th></th>\n",
              "      <th>Province/State</th>\n",
              "      <th>Country/Region</th>\n",
              "      <th>Lat</th>\n",
              "      <th>Long</th>\n",
              "      <th>timestamp</th>\n",
              "      <th>confirmed_cases</th>\n",
              "    </tr>\n",
              "  </thead>\n",
              "  <tbody>\n",
              "    <tr>\n",
              "      <th>0</th>\n",
              "      <td>NaN</td>\n",
              "      <td>Afghanistan</td>\n",
              "      <td>33.93911</td>\n",
              "      <td>67.709953</td>\n",
              "      <td>1/22/20</td>\n",
              "      <td>0</td>\n",
              "    </tr>\n",
              "    <tr>\n",
              "      <th>1</th>\n",
              "      <td>NaN</td>\n",
              "      <td>Albania</td>\n",
              "      <td>41.15330</td>\n",
              "      <td>20.168300</td>\n",
              "      <td>1/22/20</td>\n",
              "      <td>0</td>\n",
              "    </tr>\n",
              "    <tr>\n",
              "      <th>2</th>\n",
              "      <td>NaN</td>\n",
              "      <td>Algeria</td>\n",
              "      <td>28.03390</td>\n",
              "      <td>1.659600</td>\n",
              "      <td>1/22/20</td>\n",
              "      <td>0</td>\n",
              "    </tr>\n",
              "    <tr>\n",
              "      <th>3</th>\n",
              "      <td>NaN</td>\n",
              "      <td>Andorra</td>\n",
              "      <td>42.50630</td>\n",
              "      <td>1.521800</td>\n",
              "      <td>1/22/20</td>\n",
              "      <td>0</td>\n",
              "    </tr>\n",
              "    <tr>\n",
              "      <th>4</th>\n",
              "      <td>NaN</td>\n",
              "      <td>Angola</td>\n",
              "      <td>-11.20270</td>\n",
              "      <td>17.873900</td>\n",
              "      <td>1/22/20</td>\n",
              "      <td>0</td>\n",
              "    </tr>\n",
              "  </tbody>\n",
              "</table>\n",
              "</div>"
            ],
            "text/plain": [
              "  Province/State Country/Region       Lat       Long timestamp  confirmed_cases\n",
              "0            NaN    Afghanistan  33.93911  67.709953   1/22/20                0\n",
              "1            NaN        Albania  41.15330  20.168300   1/22/20                0\n",
              "2            NaN        Algeria  28.03390   1.659600   1/22/20                0\n",
              "3            NaN        Andorra  42.50630   1.521800   1/22/20                0\n",
              "4            NaN         Angola -11.20270  17.873900   1/22/20                0"
            ]
          },
          "metadata": {
            "tags": []
          },
          "execution_count": 8
        }
      ]
    },
    {
      "cell_type": "code",
      "metadata": {
        "id": "Hm9Mn8JoOYpT"
      },
      "source": [
        "us_stock['stock_name'] = 'MSFT'\r\n",
        "ca_stock['stock_name'] = 'BB'\r\n",
        "retail_stock['stock_name'] = 'SPG'\r\n",
        "travel_stock['stock_name'] = 'EXPE'\r\n",
        "material_stock['stock_name'] = 'GOLD'"
      ],
      "execution_count": 9,
      "outputs": []
    },
    {
      "cell_type": "code",
      "metadata": {
        "id": "XUfJuED_Otw0",
        "colab": {
          "base_uri": "https://localhost:8080/"
        },
        "outputId": "4fc6000c-bd14-47c5-aac9-b341cfc6faf6"
      },
      "source": [
        "final_stock = pd.concat([us_stock, ca_stock, retail_stock, travel_stock, material_stock]).reset_index(drop = True)\r\n",
        "final_stock.stock_name.unique()"
      ],
      "execution_count": 10,
      "outputs": [
        {
          "output_type": "execute_result",
          "data": {
            "text/plain": [
              "array(['MSFT', 'BB', 'SPG', 'EXPE', 'GOLD'], dtype=object)"
            ]
          },
          "metadata": {
            "tags": []
          },
          "execution_count": 10
        }
      ]
    },
    {
      "cell_type": "code",
      "metadata": {
        "id": "O31dzw_jO0z5",
        "colab": {
          "base_uri": "https://localhost:8080/"
        },
        "outputId": "a6a1a884-d401-4c35-d317-9222fd98d9dc"
      },
      "source": [
        "final_stock.shape"
      ],
      "execution_count": 11,
      "outputs": [
        {
          "output_type": "execute_result",
          "data": {
            "text/plain": [
              "(500, 7)"
            ]
          },
          "metadata": {
            "tags": []
          },
          "execution_count": 11
        }
      ]
    },
    {
      "cell_type": "code",
      "metadata": {
        "id": "uJE5XqIkO6QZ",
        "colab": {
          "base_uri": "https://localhost:8080/",
          "height": 204
        },
        "outputId": "2a91bb68-d24e-4503-9d1d-085c6cc4d7bd"
      },
      "source": [
        "final_stock.tail()"
      ],
      "execution_count": 12,
      "outputs": [
        {
          "output_type": "execute_result",
          "data": {
            "text/html": [
              "<div>\n",
              "<style scoped>\n",
              "    .dataframe tbody tr th:only-of-type {\n",
              "        vertical-align: middle;\n",
              "    }\n",
              "\n",
              "    .dataframe tbody tr th {\n",
              "        vertical-align: top;\n",
              "    }\n",
              "\n",
              "    .dataframe thead th {\n",
              "        text-align: right;\n",
              "    }\n",
              "</style>\n",
              "<table border=\"1\" class=\"dataframe\">\n",
              "  <thead>\n",
              "    <tr style=\"text-align: right;\">\n",
              "      <th></th>\n",
              "      <th>timestamp</th>\n",
              "      <th>open</th>\n",
              "      <th>high</th>\n",
              "      <th>low</th>\n",
              "      <th>close</th>\n",
              "      <th>volume</th>\n",
              "      <th>stock_name</th>\n",
              "    </tr>\n",
              "  </thead>\n",
              "  <tbody>\n",
              "    <tr>\n",
              "      <th>495</th>\n",
              "      <td>2020-10-16</td>\n",
              "      <td>27.86</td>\n",
              "      <td>27.89</td>\n",
              "      <td>27.50</td>\n",
              "      <td>27.57</td>\n",
              "      <td>8991481</td>\n",
              "      <td>GOLD</td>\n",
              "    </tr>\n",
              "    <tr>\n",
              "      <th>496</th>\n",
              "      <td>2020-10-15</td>\n",
              "      <td>27.97</td>\n",
              "      <td>28.08</td>\n",
              "      <td>27.56</td>\n",
              "      <td>27.75</td>\n",
              "      <td>10768733</td>\n",
              "      <td>GOLD</td>\n",
              "    </tr>\n",
              "    <tr>\n",
              "      <th>497</th>\n",
              "      <td>2020-10-14</td>\n",
              "      <td>28.20</td>\n",
              "      <td>28.59</td>\n",
              "      <td>27.95</td>\n",
              "      <td>28.31</td>\n",
              "      <td>10603437</td>\n",
              "      <td>GOLD</td>\n",
              "    </tr>\n",
              "    <tr>\n",
              "      <th>498</th>\n",
              "      <td>2020-10-13</td>\n",
              "      <td>27.80</td>\n",
              "      <td>28.06</td>\n",
              "      <td>27.18</td>\n",
              "      <td>27.96</td>\n",
              "      <td>12480095</td>\n",
              "      <td>GOLD</td>\n",
              "    </tr>\n",
              "    <tr>\n",
              "      <th>499</th>\n",
              "      <td>2020-10-12</td>\n",
              "      <td>27.95</td>\n",
              "      <td>28.19</td>\n",
              "      <td>27.80</td>\n",
              "      <td>28.04</td>\n",
              "      <td>9850833</td>\n",
              "      <td>GOLD</td>\n",
              "    </tr>\n",
              "  </tbody>\n",
              "</table>\n",
              "</div>"
            ],
            "text/plain": [
              "      timestamp   open   high    low  close    volume stock_name\n",
              "495  2020-10-16  27.86  27.89  27.50  27.57   8991481       GOLD\n",
              "496  2020-10-15  27.97  28.08  27.56  27.75  10768733       GOLD\n",
              "497  2020-10-14  28.20  28.59  27.95  28.31  10603437       GOLD\n",
              "498  2020-10-13  27.80  28.06  27.18  27.96  12480095       GOLD\n",
              "499  2020-10-12  27.95  28.19  27.80  28.04   9850833       GOLD"
            ]
          },
          "metadata": {
            "tags": []
          },
          "execution_count": 12
        }
      ]
    },
    {
      "cell_type": "code",
      "metadata": {
        "id": "_msdleIgPBNk"
      },
      "source": [
        "deaths_df_long = deaths_df_long.groupby(['Country/Region','timestamp'])['death_cases'].sum().reset_index()\r\n",
        "confirm_df_long = confirm_df_long.groupby(['Country/Region','timestamp'])['confirmed_cases'].sum().reset_index()\r\n",
        "final_covid = pd.concat([deaths_df_long, confirm_df_long['confirmed_cases']], axis = 1)"
      ],
      "execution_count": 13,
      "outputs": []
    },
    {
      "cell_type": "code",
      "metadata": {
        "id": "bdd0ZdAaPI4D",
        "colab": {
          "base_uri": "https://localhost:8080/",
          "height": 204
        },
        "outputId": "16ef7ce5-deda-4b54-b180-42d155ad68dd"
      },
      "source": [
        "final_covid.head()"
      ],
      "execution_count": 14,
      "outputs": [
        {
          "output_type": "execute_result",
          "data": {
            "text/html": [
              "<div>\n",
              "<style scoped>\n",
              "    .dataframe tbody tr th:only-of-type {\n",
              "        vertical-align: middle;\n",
              "    }\n",
              "\n",
              "    .dataframe tbody tr th {\n",
              "        vertical-align: top;\n",
              "    }\n",
              "\n",
              "    .dataframe thead th {\n",
              "        text-align: right;\n",
              "    }\n",
              "</style>\n",
              "<table border=\"1\" class=\"dataframe\">\n",
              "  <thead>\n",
              "    <tr style=\"text-align: right;\">\n",
              "      <th></th>\n",
              "      <th>Country/Region</th>\n",
              "      <th>timestamp</th>\n",
              "      <th>death_cases</th>\n",
              "      <th>confirmed_cases</th>\n",
              "    </tr>\n",
              "  </thead>\n",
              "  <tbody>\n",
              "    <tr>\n",
              "      <th>0</th>\n",
              "      <td>Afghanistan</td>\n",
              "      <td>1/1/21</td>\n",
              "      <td>2191</td>\n",
              "      <td>51526</td>\n",
              "    </tr>\n",
              "    <tr>\n",
              "      <th>1</th>\n",
              "      <td>Afghanistan</td>\n",
              "      <td>1/10/21</td>\n",
              "      <td>2277</td>\n",
              "      <td>53489</td>\n",
              "    </tr>\n",
              "    <tr>\n",
              "      <th>2</th>\n",
              "      <td>Afghanistan</td>\n",
              "      <td>1/11/21</td>\n",
              "      <td>2288</td>\n",
              "      <td>53538</td>\n",
              "    </tr>\n",
              "    <tr>\n",
              "      <th>3</th>\n",
              "      <td>Afghanistan</td>\n",
              "      <td>1/12/21</td>\n",
              "      <td>2301</td>\n",
              "      <td>53584</td>\n",
              "    </tr>\n",
              "    <tr>\n",
              "      <th>4</th>\n",
              "      <td>Afghanistan</td>\n",
              "      <td>1/13/21</td>\n",
              "      <td>2301</td>\n",
              "      <td>53584</td>\n",
              "    </tr>\n",
              "  </tbody>\n",
              "</table>\n",
              "</div>"
            ],
            "text/plain": [
              "  Country/Region timestamp  death_cases  confirmed_cases\n",
              "0    Afghanistan    1/1/21         2191            51526\n",
              "1    Afghanistan   1/10/21         2277            53489\n",
              "2    Afghanistan   1/11/21         2288            53538\n",
              "3    Afghanistan   1/12/21         2301            53584\n",
              "4    Afghanistan   1/13/21         2301            53584"
            ]
          },
          "metadata": {
            "tags": []
          },
          "execution_count": 14
        }
      ]
    },
    {
      "cell_type": "code",
      "metadata": {
        "id": "t7mNG6HvPNKE",
        "colab": {
          "base_uri": "https://localhost:8080/",
          "height": 204
        },
        "outputId": "3ef84507-538b-4faf-d7ac-1cc88b21e739"
      },
      "source": [
        "final_covid.tail()"
      ],
      "execution_count": 15,
      "outputs": [
        {
          "output_type": "execute_result",
          "data": {
            "text/html": [
              "<div>\n",
              "<style scoped>\n",
              "    .dataframe tbody tr th:only-of-type {\n",
              "        vertical-align: middle;\n",
              "    }\n",
              "\n",
              "    .dataframe tbody tr th {\n",
              "        vertical-align: top;\n",
              "    }\n",
              "\n",
              "    .dataframe thead th {\n",
              "        text-align: right;\n",
              "    }\n",
              "</style>\n",
              "<table border=\"1\" class=\"dataframe\">\n",
              "  <thead>\n",
              "    <tr style=\"text-align: right;\">\n",
              "      <th></th>\n",
              "      <th>Country/Region</th>\n",
              "      <th>timestamp</th>\n",
              "      <th>death_cases</th>\n",
              "      <th>confirmed_cases</th>\n",
              "    </tr>\n",
              "  </thead>\n",
              "  <tbody>\n",
              "    <tr>\n",
              "      <th>78715</th>\n",
              "      <td>Zimbabwe</td>\n",
              "      <td>9/5/20</td>\n",
              "      <td>206</td>\n",
              "      <td>6837</td>\n",
              "    </tr>\n",
              "    <tr>\n",
              "      <th>78716</th>\n",
              "      <td>Zimbabwe</td>\n",
              "      <td>9/6/20</td>\n",
              "      <td>206</td>\n",
              "      <td>6837</td>\n",
              "    </tr>\n",
              "    <tr>\n",
              "      <th>78717</th>\n",
              "      <td>Zimbabwe</td>\n",
              "      <td>9/7/20</td>\n",
              "      <td>210</td>\n",
              "      <td>7298</td>\n",
              "    </tr>\n",
              "    <tr>\n",
              "      <th>78718</th>\n",
              "      <td>Zimbabwe</td>\n",
              "      <td>9/8/20</td>\n",
              "      <td>218</td>\n",
              "      <td>7388</td>\n",
              "    </tr>\n",
              "    <tr>\n",
              "      <th>78719</th>\n",
              "      <td>Zimbabwe</td>\n",
              "      <td>9/9/20</td>\n",
              "      <td>222</td>\n",
              "      <td>7429</td>\n",
              "    </tr>\n",
              "  </tbody>\n",
              "</table>\n",
              "</div>"
            ],
            "text/plain": [
              "      Country/Region timestamp  death_cases  confirmed_cases\n",
              "78715       Zimbabwe    9/5/20          206             6837\n",
              "78716       Zimbabwe    9/6/20          206             6837\n",
              "78717       Zimbabwe    9/7/20          210             7298\n",
              "78718       Zimbabwe    9/8/20          218             7388\n",
              "78719       Zimbabwe    9/9/20          222             7429"
            ]
          },
          "metadata": {
            "tags": []
          },
          "execution_count": 15
        }
      ]
    },
    {
      "cell_type": "code",
      "metadata": {
        "id": "w5Yk9G9SPTB9"
      },
      "source": [
        "final_covid['timestamp'] = pd.to_datetime(final_covid.timestamp)\r\n",
        "final_stock['timestamp'] = pd.to_datetime(final_stock.timestamp)"
      ],
      "execution_count": 16,
      "outputs": []
    },
    {
      "cell_type": "code",
      "metadata": {
        "id": "rC-PED-QPfKU"
      },
      "source": [
        "final_data = final_stock.merge(final_covid, on = 'timestamp', how = 'left')"
      ],
      "execution_count": 17,
      "outputs": []
    },
    {
      "cell_type": "code",
      "metadata": {
        "id": "UbtZE_zuPhyS",
        "colab": {
          "base_uri": "https://localhost:8080/",
          "height": 204
        },
        "outputId": "8bcefdd0-8a56-408d-8240-91ca49371a46"
      },
      "source": [
        "final_data.head()"
      ],
      "execution_count": 18,
      "outputs": [
        {
          "output_type": "execute_result",
          "data": {
            "text/html": [
              "<div>\n",
              "<style scoped>\n",
              "    .dataframe tbody tr th:only-of-type {\n",
              "        vertical-align: middle;\n",
              "    }\n",
              "\n",
              "    .dataframe tbody tr th {\n",
              "        vertical-align: top;\n",
              "    }\n",
              "\n",
              "    .dataframe thead th {\n",
              "        text-align: right;\n",
              "    }\n",
              "</style>\n",
              "<table border=\"1\" class=\"dataframe\">\n",
              "  <thead>\n",
              "    <tr style=\"text-align: right;\">\n",
              "      <th></th>\n",
              "      <th>timestamp</th>\n",
              "      <th>open</th>\n",
              "      <th>high</th>\n",
              "      <th>low</th>\n",
              "      <th>close</th>\n",
              "      <th>volume</th>\n",
              "      <th>stock_name</th>\n",
              "      <th>Country/Region</th>\n",
              "      <th>death_cases</th>\n",
              "      <th>confirmed_cases</th>\n",
              "    </tr>\n",
              "  </thead>\n",
              "  <tbody>\n",
              "    <tr>\n",
              "      <th>0</th>\n",
              "      <td>2021-03-05</td>\n",
              "      <td>229.5165</td>\n",
              "      <td>233.27</td>\n",
              "      <td>226.46</td>\n",
              "      <td>231.6</td>\n",
              "      <td>41872770</td>\n",
              "      <td>MSFT</td>\n",
              "      <td>Afghanistan</td>\n",
              "      <td>2449</td>\n",
              "      <td>55827</td>\n",
              "    </tr>\n",
              "    <tr>\n",
              "      <th>1</th>\n",
              "      <td>2021-03-05</td>\n",
              "      <td>229.5165</td>\n",
              "      <td>233.27</td>\n",
              "      <td>226.46</td>\n",
              "      <td>231.6</td>\n",
              "      <td>41872770</td>\n",
              "      <td>MSFT</td>\n",
              "      <td>Albania</td>\n",
              "      <td>1897</td>\n",
              "      <td>111301</td>\n",
              "    </tr>\n",
              "    <tr>\n",
              "      <th>2</th>\n",
              "      <td>2021-03-05</td>\n",
              "      <td>229.5165</td>\n",
              "      <td>233.27</td>\n",
              "      <td>226.46</td>\n",
              "      <td>231.6</td>\n",
              "      <td>41872770</td>\n",
              "      <td>MSFT</td>\n",
              "      <td>Algeria</td>\n",
              "      <td>3007</td>\n",
              "      <td>113948</td>\n",
              "    </tr>\n",
              "    <tr>\n",
              "      <th>3</th>\n",
              "      <td>2021-03-05</td>\n",
              "      <td>229.5165</td>\n",
              "      <td>233.27</td>\n",
              "      <td>226.46</td>\n",
              "      <td>231.6</td>\n",
              "      <td>41872770</td>\n",
              "      <td>MSFT</td>\n",
              "      <td>Andorra</td>\n",
              "      <td>112</td>\n",
              "      <td>10998</td>\n",
              "    </tr>\n",
              "    <tr>\n",
              "      <th>4</th>\n",
              "      <td>2021-03-05</td>\n",
              "      <td>229.5165</td>\n",
              "      <td>233.27</td>\n",
              "      <td>226.46</td>\n",
              "      <td>231.6</td>\n",
              "      <td>41872770</td>\n",
              "      <td>MSFT</td>\n",
              "      <td>Angola</td>\n",
              "      <td>511</td>\n",
              "      <td>21026</td>\n",
              "    </tr>\n",
              "  </tbody>\n",
              "</table>\n",
              "</div>"
            ],
            "text/plain": [
              "   timestamp      open    high  ...  Country/Region  death_cases  confirmed_cases\n",
              "0 2021-03-05  229.5165  233.27  ...     Afghanistan         2449            55827\n",
              "1 2021-03-05  229.5165  233.27  ...         Albania         1897           111301\n",
              "2 2021-03-05  229.5165  233.27  ...         Algeria         3007           113948\n",
              "3 2021-03-05  229.5165  233.27  ...         Andorra          112            10998\n",
              "4 2021-03-05  229.5165  233.27  ...          Angola          511            21026\n",
              "\n",
              "[5 rows x 10 columns]"
            ]
          },
          "metadata": {
            "tags": []
          },
          "execution_count": 18
        }
      ]
    },
    {
      "cell_type": "code",
      "metadata": {
        "id": "fhhTojtfPqsM",
        "colab": {
          "base_uri": "https://localhost:8080/"
        },
        "outputId": "6bde1682-d063-494b-a0d7-0e733f23d417"
      },
      "source": [
        "final_data.shape"
      ],
      "execution_count": 19,
      "outputs": [
        {
          "output_type": "execute_result",
          "data": {
            "text/plain": [
              "(96000, 10)"
            ]
          },
          "metadata": {
            "tags": []
          },
          "execution_count": 19
        }
      ]
    },
    {
      "cell_type": "code",
      "metadata": {
        "id": "q6jGsL54Pvsd",
        "colab": {
          "base_uri": "https://localhost:8080/"
        },
        "outputId": "d665d185-cbed-4bd4-b8cd-6b3be3effd4e"
      },
      "source": [
        "final_data.timestamp.min()"
      ],
      "execution_count": 20,
      "outputs": [
        {
          "output_type": "execute_result",
          "data": {
            "text/plain": [
              "Timestamp('2020-10-12 00:00:00')"
            ]
          },
          "metadata": {
            "tags": []
          },
          "execution_count": 20
        }
      ]
    },
    {
      "cell_type": "code",
      "metadata": {
        "id": "ytqriHf1Pyri",
        "colab": {
          "base_uri": "https://localhost:8080/"
        },
        "outputId": "1242893d-e7dc-4200-ad5a-8f532de35408"
      },
      "source": [
        "final_data.timestamp.max()"
      ],
      "execution_count": 21,
      "outputs": [
        {
          "output_type": "execute_result",
          "data": {
            "text/plain": [
              "Timestamp('2021-03-05 00:00:00')"
            ]
          },
          "metadata": {
            "tags": []
          },
          "execution_count": 21
        }
      ]
    },
    {
      "cell_type": "code",
      "metadata": {
        "id": "0Asx_ai3P6Lr",
        "colab": {
          "base_uri": "https://localhost:8080/"
        },
        "outputId": "d60a4de8-2dbc-4923-c880-d31db06af15a"
      },
      "source": [
        "final_data.isna().sum()"
      ],
      "execution_count": 22,
      "outputs": [
        {
          "output_type": "execute_result",
          "data": {
            "text/plain": [
              "timestamp          0\n",
              "open               0\n",
              "high               0\n",
              "low                0\n",
              "close              0\n",
              "volume             0\n",
              "stock_name         0\n",
              "Country/Region     0\n",
              "death_cases        0\n",
              "confirmed_cases    0\n",
              "dtype: int64"
            ]
          },
          "metadata": {
            "tags": []
          },
          "execution_count": 22
        }
      ]
    },
    {
      "cell_type": "code",
      "metadata": {
        "id": "QXw-6JjaQEm4"
      },
      "source": [
        "MSFT_final = final_data[final_data.stock_name == 'MSFT']"
      ],
      "execution_count": 23,
      "outputs": []
    },
    {
      "cell_type": "code",
      "metadata": {
        "id": "AAlLNw6GQIZq",
        "colab": {
          "base_uri": "https://localhost:8080/",
          "height": 204
        },
        "outputId": "d8cfecc1-f687-47ea-a7c8-e75af429dd2d"
      },
      "source": [
        "MSFT_final.head()"
      ],
      "execution_count": 24,
      "outputs": [
        {
          "output_type": "execute_result",
          "data": {
            "text/html": [
              "<div>\n",
              "<style scoped>\n",
              "    .dataframe tbody tr th:only-of-type {\n",
              "        vertical-align: middle;\n",
              "    }\n",
              "\n",
              "    .dataframe tbody tr th {\n",
              "        vertical-align: top;\n",
              "    }\n",
              "\n",
              "    .dataframe thead th {\n",
              "        text-align: right;\n",
              "    }\n",
              "</style>\n",
              "<table border=\"1\" class=\"dataframe\">\n",
              "  <thead>\n",
              "    <tr style=\"text-align: right;\">\n",
              "      <th></th>\n",
              "      <th>timestamp</th>\n",
              "      <th>open</th>\n",
              "      <th>high</th>\n",
              "      <th>low</th>\n",
              "      <th>close</th>\n",
              "      <th>volume</th>\n",
              "      <th>stock_name</th>\n",
              "      <th>Country/Region</th>\n",
              "      <th>death_cases</th>\n",
              "      <th>confirmed_cases</th>\n",
              "    </tr>\n",
              "  </thead>\n",
              "  <tbody>\n",
              "    <tr>\n",
              "      <th>0</th>\n",
              "      <td>2021-03-05</td>\n",
              "      <td>229.5165</td>\n",
              "      <td>233.27</td>\n",
              "      <td>226.46</td>\n",
              "      <td>231.6</td>\n",
              "      <td>41872770</td>\n",
              "      <td>MSFT</td>\n",
              "      <td>Afghanistan</td>\n",
              "      <td>2449</td>\n",
              "      <td>55827</td>\n",
              "    </tr>\n",
              "    <tr>\n",
              "      <th>1</th>\n",
              "      <td>2021-03-05</td>\n",
              "      <td>229.5165</td>\n",
              "      <td>233.27</td>\n",
              "      <td>226.46</td>\n",
              "      <td>231.6</td>\n",
              "      <td>41872770</td>\n",
              "      <td>MSFT</td>\n",
              "      <td>Albania</td>\n",
              "      <td>1897</td>\n",
              "      <td>111301</td>\n",
              "    </tr>\n",
              "    <tr>\n",
              "      <th>2</th>\n",
              "      <td>2021-03-05</td>\n",
              "      <td>229.5165</td>\n",
              "      <td>233.27</td>\n",
              "      <td>226.46</td>\n",
              "      <td>231.6</td>\n",
              "      <td>41872770</td>\n",
              "      <td>MSFT</td>\n",
              "      <td>Algeria</td>\n",
              "      <td>3007</td>\n",
              "      <td>113948</td>\n",
              "    </tr>\n",
              "    <tr>\n",
              "      <th>3</th>\n",
              "      <td>2021-03-05</td>\n",
              "      <td>229.5165</td>\n",
              "      <td>233.27</td>\n",
              "      <td>226.46</td>\n",
              "      <td>231.6</td>\n",
              "      <td>41872770</td>\n",
              "      <td>MSFT</td>\n",
              "      <td>Andorra</td>\n",
              "      <td>112</td>\n",
              "      <td>10998</td>\n",
              "    </tr>\n",
              "    <tr>\n",
              "      <th>4</th>\n",
              "      <td>2021-03-05</td>\n",
              "      <td>229.5165</td>\n",
              "      <td>233.27</td>\n",
              "      <td>226.46</td>\n",
              "      <td>231.6</td>\n",
              "      <td>41872770</td>\n",
              "      <td>MSFT</td>\n",
              "      <td>Angola</td>\n",
              "      <td>511</td>\n",
              "      <td>21026</td>\n",
              "    </tr>\n",
              "  </tbody>\n",
              "</table>\n",
              "</div>"
            ],
            "text/plain": [
              "   timestamp      open    high  ...  Country/Region  death_cases  confirmed_cases\n",
              "0 2021-03-05  229.5165  233.27  ...     Afghanistan         2449            55827\n",
              "1 2021-03-05  229.5165  233.27  ...         Albania         1897           111301\n",
              "2 2021-03-05  229.5165  233.27  ...         Algeria         3007           113948\n",
              "3 2021-03-05  229.5165  233.27  ...         Andorra          112            10998\n",
              "4 2021-03-05  229.5165  233.27  ...          Angola          511            21026\n",
              "\n",
              "[5 rows x 10 columns]"
            ]
          },
          "metadata": {
            "tags": []
          },
          "execution_count": 24
        }
      ]
    },
    {
      "cell_type": "code",
      "metadata": {
        "id": "ukInWK-RTa9z"
      },
      "source": [
        "MSFT_final1 = pd.DataFrame()\r\n",
        "MSFT_final1['timestamp'] = MSFT_final[MSFT_final['Country/Region'] == 'US'].timestamp\r\n",
        "MSFT_final1['death_cases'] = (MSFT_final[MSFT_final['Country/Region'] == 'US'].death_cases - MSFT_final[MSFT_final['Country/Region'] == 'US'].death_cases.mean())/MSFT_final[MSFT_final['Country/Region'] == 'US'].death_cases.std()\r\n",
        "MSFT_final1['confirmed_cases'] = (MSFT_final[MSFT_final['Country/Region'] == 'US'].confirmed_cases - MSFT_final[MSFT_final['Country/Region'] == 'US'].confirmed_cases.mean())/MSFT_final[MSFT_final['Country/Region'] == 'US'].confirmed_cases.std()\r\n",
        "MSFT_final1['high'] = (MSFT_final[MSFT_final['Country/Region'] == 'US'].high - MSFT_final[MSFT_final['Country/Region'] == 'US'].high.mean())/MSFT_final[MSFT_final['Country/Region'] == 'US'].high.std()\r\n",
        "MSFT_final1['low'] = (MSFT_final[MSFT_final['Country/Region'] == 'US'].low - MSFT_final[MSFT_final['Country/Region'] == 'US'].low.mean())/MSFT_final[MSFT_final['Country/Region'] == 'US'].low.std()\r\n",
        "MSFT_final1['open'] = (MSFT_final[MSFT_final['Country/Region'] == 'US'].open - MSFT_final[MSFT_final['Country/Region'] == 'US'].open.mean())/MSFT_final[MSFT_final['Country/Region'] == 'US'].open.std()\r\n",
        "MSFT_final1['close'] = (MSFT_final[MSFT_final['Country/Region'] == 'US'].close - MSFT_final[MSFT_final['Country/Region'] == 'US'].close.mean())/MSFT_final[MSFT_final['Country/Region'] == 'US'].close.std()"
      ],
      "execution_count": 25,
      "outputs": []
    },
    {
      "cell_type": "code",
      "metadata": {
        "id": "HaqhQ5T6UGgK",
        "colab": {
          "base_uri": "https://localhost:8080/",
          "height": 204
        },
        "outputId": "f892eadc-7ca4-491d-b7cf-f0b5731214ec"
      },
      "source": [
        "MSFT_final1.head()"
      ],
      "execution_count": 26,
      "outputs": [
        {
          "output_type": "execute_result",
          "data": {
            "text/html": [
              "<div>\n",
              "<style scoped>\n",
              "    .dataframe tbody tr th:only-of-type {\n",
              "        vertical-align: middle;\n",
              "    }\n",
              "\n",
              "    .dataframe tbody tr th {\n",
              "        vertical-align: top;\n",
              "    }\n",
              "\n",
              "    .dataframe thead th {\n",
              "        text-align: right;\n",
              "    }\n",
              "</style>\n",
              "<table border=\"1\" class=\"dataframe\">\n",
              "  <thead>\n",
              "    <tr style=\"text-align: right;\">\n",
              "      <th></th>\n",
              "      <th>timestamp</th>\n",
              "      <th>death_cases</th>\n",
              "      <th>confirmed_cases</th>\n",
              "      <th>high</th>\n",
              "      <th>low</th>\n",
              "      <th>open</th>\n",
              "      <th>close</th>\n",
              "    </tr>\n",
              "  </thead>\n",
              "  <tbody>\n",
              "    <tr>\n",
              "      <th>178</th>\n",
              "      <td>2021-03-05</td>\n",
              "      <td>1.724666</td>\n",
              "      <td>1.425686</td>\n",
              "      <td>0.785081</td>\n",
              "      <td>0.592882</td>\n",
              "      <td>0.655361</td>\n",
              "      <td>0.838259</td>\n",
              "    </tr>\n",
              "    <tr>\n",
              "      <th>370</th>\n",
              "      <td>2021-03-04</td>\n",
              "      <td>1.707558</td>\n",
              "      <td>1.416640</td>\n",
              "      <td>0.714977</td>\n",
              "      <td>0.392091</td>\n",
              "      <td>0.405035</td>\n",
              "      <td>0.401227</td>\n",
              "    </tr>\n",
              "    <tr>\n",
              "      <th>562</th>\n",
              "      <td>2021-03-03</td>\n",
              "      <td>1.688931</td>\n",
              "      <td>1.407460</td>\n",
              "      <td>0.812934</td>\n",
              "      <td>0.665897</td>\n",
              "      <td>0.892818</td>\n",
              "      <td>0.475711</td>\n",
              "    </tr>\n",
              "    <tr>\n",
              "      <th>754</th>\n",
              "      <td>2021-03-02</td>\n",
              "      <td>1.664914</td>\n",
              "      <td>1.398532</td>\n",
              "      <td>1.147286</td>\n",
              "      <td>1.230851</td>\n",
              "      <td>1.329752</td>\n",
              "      <td>1.041968</td>\n",
              "    </tr>\n",
              "    <tr>\n",
              "      <th>946</th>\n",
              "      <td>2021-03-01</td>\n",
              "      <td>1.646161</td>\n",
              "      <td>1.390845</td>\n",
              "      <td>1.162565</td>\n",
              "      <td>1.203471</td>\n",
              "      <td>1.229856</td>\n",
              "      <td>1.317470</td>\n",
              "    </tr>\n",
              "  </tbody>\n",
              "</table>\n",
              "</div>"
            ],
            "text/plain": [
              "     timestamp  death_cases  confirmed_cases  ...       low      open     close\n",
              "178 2021-03-05     1.724666         1.425686  ...  0.592882  0.655361  0.838259\n",
              "370 2021-03-04     1.707558         1.416640  ...  0.392091  0.405035  0.401227\n",
              "562 2021-03-03     1.688931         1.407460  ...  0.665897  0.892818  0.475711\n",
              "754 2021-03-02     1.664914         1.398532  ...  1.230851  1.329752  1.041968\n",
              "946 2021-03-01     1.646161         1.390845  ...  1.203471  1.229856  1.317470\n",
              "\n",
              "[5 rows x 7 columns]"
            ]
          },
          "metadata": {
            "tags": []
          },
          "execution_count": 26
        }
      ]
    },
    {
      "cell_type": "markdown",
      "metadata": {
        "id": "CbX62_KtDNEZ"
      },
      "source": [
        "We have chosen  Line graph for plotting of the number of confirmed & death cases due to COVID-19 and its effects on stock markets. \r\n",
        "\r\n",
        "\r\n",
        "1. Because of minor variations between these numbers, we thought the line graph will be the best choice to interpret the results. \r\n",
        " \r\n",
        "\r\n",
        "2. Line graph can easily depict upward, downward trend or major or minor fluctuations. \r\n",
        "\r\n",
        "3. Also, we can predict the future trends. \r\n",
        "\r\n",
        "\r\n",
        "\r\n",
        "\r\n",
        "\r\n",
        "\r\n",
        "\r\n",
        "\r\n",
        "\r\n",
        "\r\n",
        "\r\n",
        "\r\n",
        "\r\n",
        "\r\n",
        "\r\n",
        "\r\n",
        "\r\n",
        "\r\n"
      ]
    },
    {
      "cell_type": "code",
      "metadata": {
        "id": "Eb6_153hUGcT",
        "colab": {
          "base_uri": "https://localhost:8080/",
          "height": 281
        },
        "outputId": "f898192d-5299-4fbc-ec4e-0982854fa7cb"
      },
      "source": [
        "plt.plot(MSFT_final1.timestamp, MSFT_final1.death_cases, label = 'death_cases')\r\n",
        "plt.plot(MSFT_final1.timestamp, MSFT_final1.confirmed_cases, label = 'confirmed_cases')\r\n",
        "plt.plot(MSFT_final1.timestamp, MSFT_final1.high, label = 'high')\r\n",
        "plt.plot(MSFT_final1.timestamp, MSFT_final1.low, label = 'low')\r\n",
        "plt.plot(MSFT_final1.timestamp, MSFT_final1.open, label = 'open')\r\n",
        "plt.plot(MSFT_final1.timestamp, MSFT_final1.close, label = 'close')\r\n",
        "plt.legend()\r\n",
        "plt.title('Stock Analysis Microsoft USA')\r\n",
        "plt.show()"
      ],
      "execution_count": 27,
      "outputs": [
        {
          "output_type": "display_data",
          "data": {
            "image/png": "[encoded data removed]",
            "text/plain": [
              "<Figure size 432x288 with 1 Axes>"
            ]
          },
          "metadata": {
            "tags": [],
            "needs_background": "light"
          }
        }
      ]
    },
    {
      "cell_type": "code",
      "metadata": {
        "id": "jSFR3ygDUcKo"
      },
      "source": [
        "BB_final = final_data[final_data.stock_name == 'BB']\r\n",
        "BB_final1 = pd.DataFrame()\r\n",
        "BB_final1['timestamp'] = BB_final[BB_final['Country/Region'] == 'Canada'].timestamp\r\n",
        "BB_final1['death_cases'] = (BB_final[BB_final['Country/Region'] == 'Canada'].death_cases - BB_final[BB_final['Country/Region'] == 'Canada'].death_cases.mean())/BB_final[BB_final['Country/Region'] == 'Canada'].death_cases.std()\r\n",
        "BB_final1['confirmed_cases'] = (BB_final[BB_final['Country/Region'] == 'Canada'].confirmed_cases - BB_final[BB_final['Country/Region'] == 'Canada'].confirmed_cases.mean())/BB_final[BB_final['Country/Region'] == 'Canada'].confirmed_cases.std()\r\n",
        "BB_final1['high'] = (BB_final[BB_final['Country/Region'] == 'Canada'].high - BB_final[BB_final['Country/Region'] == 'Canada'].high.mean())/BB_final[BB_final['Country/Region'] == 'Canada'].high.std()\r\n",
        "BB_final1['low'] = (BB_final[BB_final['Country/Region'] == 'Canada'].low - BB_final[BB_final['Country/Region'] == 'Canada'].low.mean())/BB_final[BB_final['Country/Region'] == 'Canada'].low.std()\r\n",
        "BB_final1['open'] = (BB_final[BB_final['Country/Region'] == 'Canada'].open - BB_final[BB_final['Country/Region'] == 'Canada'].open.mean())/BB_final[BB_final['Country/Region'] == 'Canada'].open.std()\r\n",
        "BB_final1['close'] = (BB_final[BB_final['Country/Region'] == 'Canada'].close - BB_final[BB_final['Country/Region'] == 'Canada'].close.mean())/BB_final[BB_final['Country/Region'] == 'Canada'].close.std()"
      ],
      "execution_count": 28,
      "outputs": []
    },
    {
      "cell_type": "code",
      "metadata": {
        "id": "QrFUV_M_YYOK",
        "colab": {
          "base_uri": "https://localhost:8080/",
          "height": 281
        },
        "outputId": "04ede382-2b2f-4d1f-fa56-8dd06733a38f"
      },
      "source": [
        "plt.plot(BB_final1.timestamp, BB_final1.death_cases, label = 'death_cases')\r\n",
        "plt.plot(BB_final1.timestamp, BB_final1.confirmed_cases, label = 'confirmed_cases')\r\n",
        "plt.plot(BB_final1.timestamp, BB_final1.high, label = 'high')\r\n",
        "plt.plot(BB_final1.timestamp, BB_final1.low, label = 'low')\r\n",
        "plt.plot(BB_final1.timestamp, BB_final1.open, label = 'open')\r\n",
        "plt.plot(BB_final1.timestamp, BB_final1.close, label = 'close')\r\n",
        "plt.legend()\r\n",
        "plt.title('Stock Analysis Blackberry Canada')\r\n",
        "plt.show()"
      ],
      "execution_count": 29,
      "outputs": [
        {
          "output_type": "display_data",
          "data": {
            "image/png": "[encoded data removed]",
            "text/plain": [
              "<Figure size 432x288 with 1 Axes>"
            ]
          },
          "metadata": {
            "tags": [],
            "needs_background": "light"
          }
        }
      ]
    },
    {
      "cell_type": "code",
      "metadata": {
        "id": "uyEvvmKlYZ2c"
      },
      "source": [
        "SPG_final = final_data[final_data.stock_name == 'SPG']"
      ],
      "execution_count": 30,
      "outputs": []
    },
    {
      "cell_type": "code",
      "metadata": {
        "id": "_ZEiN55kYiu2",
        "colab": {
          "base_uri": "https://localhost:8080/"
        },
        "outputId": "a721f740-db23-4dde-bcb1-297fa154c2e0"
      },
      "source": [
        "SPG_final.shape"
      ],
      "execution_count": 31,
      "outputs": [
        {
          "output_type": "execute_result",
          "data": {
            "text/plain": [
              "(19200, 10)"
            ]
          },
          "metadata": {
            "tags": []
          },
          "execution_count": 31
        }
      ]
    },
    {
      "cell_type": "code",
      "metadata": {
        "id": "2V8d90zeYmfX",
        "colab": {
          "base_uri": "https://localhost:8080/",
          "height": 204
        },
        "outputId": "5d4314b1-2cca-46ad-d9d2-395ca689426d"
      },
      "source": [
        "SPG_final.head()"
      ],
      "execution_count": 32,
      "outputs": [
        {
          "output_type": "execute_result",
          "data": {
            "text/html": [
              "<div>\n",
              "<style scoped>\n",
              "    .dataframe tbody tr th:only-of-type {\n",
              "        vertical-align: middle;\n",
              "    }\n",
              "\n",
              "    .dataframe tbody tr th {\n",
              "        vertical-align: top;\n",
              "    }\n",
              "\n",
              "    .dataframe thead th {\n",
              "        text-align: right;\n",
              "    }\n",
              "</style>\n",
              "<table border=\"1\" class=\"dataframe\">\n",
              "  <thead>\n",
              "    <tr style=\"text-align: right;\">\n",
              "      <th></th>\n",
              "      <th>timestamp</th>\n",
              "      <th>open</th>\n",
              "      <th>high</th>\n",
              "      <th>low</th>\n",
              "      <th>close</th>\n",
              "      <th>volume</th>\n",
              "      <th>stock_name</th>\n",
              "      <th>Country/Region</th>\n",
              "      <th>death_cases</th>\n",
              "      <th>confirmed_cases</th>\n",
              "    </tr>\n",
              "  </thead>\n",
              "  <tbody>\n",
              "    <tr>\n",
              "      <th>38400</th>\n",
              "      <td>2021-03-05</td>\n",
              "      <td>111.56</td>\n",
              "      <td>112.29</td>\n",
              "      <td>104.12</td>\n",
              "      <td>111.17</td>\n",
              "      <td>4576627</td>\n",
              "      <td>SPG</td>\n",
              "      <td>Afghanistan</td>\n",
              "      <td>2449</td>\n",
              "      <td>55827</td>\n",
              "    </tr>\n",
              "    <tr>\n",
              "      <th>38401</th>\n",
              "      <td>2021-03-05</td>\n",
              "      <td>111.56</td>\n",
              "      <td>112.29</td>\n",
              "      <td>104.12</td>\n",
              "      <td>111.17</td>\n",
              "      <td>4576627</td>\n",
              "      <td>SPG</td>\n",
              "      <td>Albania</td>\n",
              "      <td>1897</td>\n",
              "      <td>111301</td>\n",
              "    </tr>\n",
              "    <tr>\n",
              "      <th>38402</th>\n",
              "      <td>2021-03-05</td>\n",
              "      <td>111.56</td>\n",
              "      <td>112.29</td>\n",
              "      <td>104.12</td>\n",
              "      <td>111.17</td>\n",
              "      <td>4576627</td>\n",
              "      <td>SPG</td>\n",
              "      <td>Algeria</td>\n",
              "      <td>3007</td>\n",
              "      <td>113948</td>\n",
              "    </tr>\n",
              "    <tr>\n",
              "      <th>38403</th>\n",
              "      <td>2021-03-05</td>\n",
              "      <td>111.56</td>\n",
              "      <td>112.29</td>\n",
              "      <td>104.12</td>\n",
              "      <td>111.17</td>\n",
              "      <td>4576627</td>\n",
              "      <td>SPG</td>\n",
              "      <td>Andorra</td>\n",
              "      <td>112</td>\n",
              "      <td>10998</td>\n",
              "    </tr>\n",
              "    <tr>\n",
              "      <th>38404</th>\n",
              "      <td>2021-03-05</td>\n",
              "      <td>111.56</td>\n",
              "      <td>112.29</td>\n",
              "      <td>104.12</td>\n",
              "      <td>111.17</td>\n",
              "      <td>4576627</td>\n",
              "      <td>SPG</td>\n",
              "      <td>Angola</td>\n",
              "      <td>511</td>\n",
              "      <td>21026</td>\n",
              "    </tr>\n",
              "  </tbody>\n",
              "</table>\n",
              "</div>"
            ],
            "text/plain": [
              "       timestamp    open    high  ...  Country/Region  death_cases  confirmed_cases\n",
              "38400 2021-03-05  111.56  112.29  ...     Afghanistan         2449            55827\n",
              "38401 2021-03-05  111.56  112.29  ...         Albania         1897           111301\n",
              "38402 2021-03-05  111.56  112.29  ...         Algeria         3007           113948\n",
              "38403 2021-03-05  111.56  112.29  ...         Andorra          112            10998\n",
              "38404 2021-03-05  111.56  112.29  ...          Angola          511            21026\n",
              "\n",
              "[5 rows x 10 columns]"
            ]
          },
          "metadata": {
            "tags": []
          },
          "execution_count": 32
        }
      ]
    },
    {
      "cell_type": "code",
      "metadata": {
        "id": "hXTd0zGdYqwj",
        "colab": {
          "base_uri": "https://localhost:8080/"
        },
        "outputId": "2d0eb55b-a65a-485c-f3a1-2e3942b1d3b7"
      },
      "source": [
        "SPG_final1 = SPG_final.groupby('timestamp')['open','high','low','close'].mean().reset_index().merge(SPG_final.groupby('timestamp')['death_cases','confirmed_cases'].sum().reset_index(),\r\n",
        "                                                                                                   on = 'timestamp')"
      ],
      "execution_count": 33,
      "outputs": [
        {
          "output_type": "stream",
          "text": [
            "/usr/local/lib/python3.7/dist-packages/ipykernel_launcher.py:1: FutureWarning: Indexing with multiple keys (implicitly converted to a tuple of keys) will be deprecated, use a list instead.\n",
            "  \"\"\"Entry point for launching an IPython kernel.\n"
          ],
          "name": "stderr"
        }
      ]
    },
    {
      "cell_type": "code",
      "metadata": {
        "id": "D5BrbLmaYyKK",
        "colab": {
          "base_uri": "https://localhost:8080/"
        },
        "outputId": "7bae1f4b-7e78-4ef4-e7bb-2c6171ffb3da"
      },
      "source": [
        "SPG_final1.shape"
      ],
      "execution_count": 34,
      "outputs": [
        {
          "output_type": "execute_result",
          "data": {
            "text/plain": [
              "(100, 7)"
            ]
          },
          "metadata": {
            "tags": []
          },
          "execution_count": 34
        }
      ]
    },
    {
      "cell_type": "code",
      "metadata": {
        "id": "bgd8n8c2Y3nD"
      },
      "source": [
        "SPG_final1['death_cases'] = (SPG_final1.death_cases - SPG_final1.death_cases.mean())/SPG_final1.death_cases.std()\r\n",
        "SPG_final1['confirmed_cases'] = (SPG_final1.confirmed_cases - SPG_final1.confirmed_cases.mean())/SPG_final1.confirmed_cases.std()\r\n",
        "SPG_final1['high'] = (SPG_final1.high - SPG_final1.high.mean())/SPG_final1.high.std()\r\n",
        "SPG_final1['low'] = (SPG_final1.low - SPG_final1.low.mean())/SPG_final1.low.std()\r\n",
        "SPG_final1['open'] = (SPG_final1.open - SPG_final1.open.mean())/SPG_final1.open.std()\r\n",
        "SPG_final1['close'] = (SPG_final1.close - SPG_final1.close.mean())/SPG_final1.close.std()"
      ],
      "execution_count": 35,
      "outputs": []
    },
    {
      "cell_type": "code",
      "metadata": {
        "id": "j2icaChOY7AM",
        "colab": {
          "base_uri": "https://localhost:8080/",
          "height": 336
        },
        "outputId": "6cb017e1-1f26-4999-e6cf-2c84fd0ad23c"
      },
      "source": [
        "plt.figure(figsize=(10,5))\r\n",
        "plt.plot(SPG_final1.timestamp, SPG_final1.death_cases, label = 'death_cases')\r\n",
        "plt.plot(SPG_final1.timestamp, SPG_final1.confirmed_cases, label = 'confirmed_cases')\r\n",
        "plt.plot(SPG_final1.timestamp, SPG_final1.high, label = 'high')\r\n",
        "plt.plot(SPG_final1.timestamp, SPG_final1.low, label = 'low')\r\n",
        "plt.plot(SPG_final1.timestamp, SPG_final1.open, label = 'open')\r\n",
        "plt.plot(SPG_final1.timestamp, SPG_final1.close, label = 'close')\r\n",
        "plt.legend()\r\n",
        "plt.title('Stock Analysis Simon Property Group for retail stock')\r\n",
        "plt.show()"
      ],
      "execution_count": 36,
      "outputs": [
        {
          "output_type": "display_data",
          "data": {
            "image/png": "[encoded data removed]",
            "text/plain": [
              "<Figure size 720x360 with 1 Axes>"
            ]
          },
          "metadata": {
            "tags": [],
            "needs_background": "light"
          }
        }
      ]
    },
    {
      "cell_type": "code",
      "metadata": {
        "id": "ASHUb5WTa0pS",
        "colab": {
          "base_uri": "https://localhost:8080/"
        },
        "outputId": "29ca17fe-1615-4d79-b4ff-656eaa421fdd"
      },
      "source": [
        "EXPE_final = final_data[final_data.stock_name == 'EXPE']\r\n",
        "EXPE_final1 = EXPE_final.groupby('timestamp')['open','high','low','close'].mean().reset_index().merge(EXPE_final.groupby('timestamp')['death_cases','confirmed_cases'].sum().reset_index(),\r\n",
        "                                                                                                   on = 'timestamp')\r\n",
        "\r\n",
        "EXPE_final1['death_cases'] = (EXPE_final1.death_cases - EXPE_final1.death_cases.mean())/EXPE_final1.death_cases.std()\r\n",
        "EXPE_final1['confirmed_cases'] = (EXPE_final1.confirmed_cases - EXPE_final1.confirmed_cases.mean())/EXPE_final1.confirmed_cases.std()\r\n",
        "EXPE_final1['high'] = (EXPE_final1.high - EXPE_final1.high.mean())/EXPE_final1.high.std()\r\n",
        "EXPE_final1['low'] = (EXPE_final1.low - EXPE_final1.low.mean())/EXPE_final1.low.std()\r\n",
        "EXPE_final1['open'] = (EXPE_final1.open - EXPE_final1.open.mean())/EXPE_final1.open.std()\r\n",
        "EXPE_final1['close'] = (EXPE_final1.close - EXPE_final1.close.mean())/EXPE_final1.close.std()"
      ],
      "execution_count": 37,
      "outputs": [
        {
          "output_type": "stream",
          "text": [
            "/usr/local/lib/python3.7/dist-packages/ipykernel_launcher.py:2: FutureWarning: Indexing with multiple keys (implicitly converted to a tuple of keys) will be deprecated, use a list instead.\n",
            "  \n"
          ],
          "name": "stderr"
        }
      ]
    },
    {
      "cell_type": "code",
      "metadata": {
        "id": "gEurMIUPBAhe",
        "outputId": "858b1e57-f0f7-4aa2-9025-78b98d42f7b3",
        "colab": {
          "base_uri": "https://localhost:8080/",
          "height": 336
        }
      },
      "source": [
        "plt.figure(figsize=(10,5))\r\n",
        "plt.plot(EXPE_final1.timestamp, EXPE_final1.death_cases, label = 'death_cases')\r\n",
        "plt.plot(EXPE_final1.timestamp, EXPE_final1.confirmed_cases, label = 'confirmed_cases')\r\n",
        "plt.plot(EXPE_final1.timestamp, EXPE_final1.high, label = 'high')\r\n",
        "plt.plot(EXPE_final1.timestamp, EXPE_final1.low, label = 'low')\r\n",
        "plt.plot(EXPE_final1.timestamp, EXPE_final1.open, label = 'open')\r\n",
        "plt.plot(EXPE_final1.timestamp, EXPE_final1.close, label = 'close')\r\n",
        "plt.legend()\r\n",
        "plt.title('Stock Analysis Expedia for travel stock')\r\n",
        "plt.show()"
      ],
      "execution_count": 38,
      "outputs": [
        {
          "output_type": "display_data",
          "data": {
            "image/png": "[encoded data removed]",
            "text/plain": [
              "<Figure size 720x360 with 1 Axes>"
            ]
          },
          "metadata": {
            "tags": [],
            "needs_background": "light"
          }
        }
      ]
    },
    {
      "cell_type": "code",
      "metadata": {
        "id": "rMDa0j_3CwBG",
        "outputId": "8c2996c1-76b8-4537-a6ac-4f3b17ccb137",
        "colab": {
          "base_uri": "https://localhost:8080/"
        }
      },
      "source": [
        "GOLD_final = final_data[final_data.stock_name == 'GOLD']\r\n",
        "GOLD_final1 = GOLD_final.groupby('timestamp')['open','high','low','close'].mean().reset_index().merge(GOLD_final.groupby('timestamp')['death_cases','confirmed_cases'].sum().reset_index(),\r\n",
        "                                                                                                   on = 'timestamp')\r\n",
        "\r\n",
        "GOLD_final1['death_cases'] = (GOLD_final1.death_cases - GOLD_final1.death_cases.mean())/GOLD_final1.death_cases.std()\r\n",
        "GOLD_final1['confirmed_cases'] = (GOLD_final1.confirmed_cases - GOLD_final1.confirmed_cases.mean())/GOLD_final1.confirmed_cases.std()\r\n",
        "GOLD_final1['high'] = (GOLD_final1.high - GOLD_final1.high.mean())/GOLD_final1.high.std()\r\n",
        "GOLD_final1['low'] = (GOLD_final1.low - GOLD_final1.low.mean())/GOLD_final1.low.std()\r\n",
        "GOLD_final1['open'] = (GOLD_final1.open - GOLD_final1.open.mean())/GOLD_final1.open.std()\r\n",
        "GOLD_final1['close'] = (GOLD_final1.close - GOLD_final1.close.mean())/GOLD_final1.close.std()"
      ],
      "execution_count": 39,
      "outputs": [
        {
          "output_type": "stream",
          "text": [
            "/usr/local/lib/python3.7/dist-packages/ipykernel_launcher.py:2: FutureWarning: Indexing with multiple keys (implicitly converted to a tuple of keys) will be deprecated, use a list instead.\n",
            "  \n"
          ],
          "name": "stderr"
        }
      ]
    },
    {
      "cell_type": "code",
      "metadata": {
        "id": "7uar5mBIC6Z_",
        "outputId": "046bce7e-0baa-4c1e-c20b-05c444e36225",
        "colab": {
          "base_uri": "https://localhost:8080/",
          "height": 336
        }
      },
      "source": [
        "plt.figure(figsize=(10,5))\r\n",
        "plt.plot(GOLD_final1.timestamp, GOLD_final1.death_cases, label = 'death_cases')\r\n",
        "plt.plot(GOLD_final1.timestamp, GOLD_final1.confirmed_cases, label = 'confirmed_cases')\r\n",
        "plt.plot(GOLD_final1.timestamp, GOLD_final1.high, label = 'high')\r\n",
        "plt.plot(GOLD_final1.timestamp, GOLD_final1.low, label = 'low')\r\n",
        "plt.plot(GOLD_final1.timestamp, GOLD_final1.open, label = 'open')\r\n",
        "plt.plot(GOLD_final1.timestamp, GOLD_final1.close, label = 'close')\r\n",
        "plt.legend()\r\n",
        "plt.title('Stock Analysis GOLD for material stock')\r\n",
        "plt.show()"
      ],
      "execution_count": 40,
      "outputs": [
        {
          "output_type": "display_data",
          "data": {
            "image/png": "[encoded data removed]",
            "text/plain": [
              "<Figure size 720x360 with 1 Axes>"
            ]
          },
          "metadata": {
            "tags": [],
            "needs_background": "light"
          }
        }
      ]
    }
  ]
}